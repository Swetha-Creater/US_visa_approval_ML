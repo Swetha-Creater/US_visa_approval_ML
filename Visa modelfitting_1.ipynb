{
 "cells": [
  {
   "cell_type": "markdown",
   "id": "1d8d5486-9d34-4f02-948d-ee1735e2a38a",
   "metadata": {},
   "source": [
    "# Data Pre-Processing"
   ]
  },
  {
   "cell_type": "code",
   "execution_count": 1,
   "id": "3ed14d50-a946-4634-a03c-d60895c0c000",
   "metadata": {},
   "outputs": [],
   "source": [
    "import pandas as pd\n",
    "import numpy as np\n",
    "import matplotlib.pyplot as plt\n",
    "import seaborn as sns\n",
    "import warnings\n",
    "warnings.filterwarnings('ignore')\n",
    "pd.pandas.set_option('display.max_columns',None)"
   ]
  },
  {
   "cell_type": "code",
   "execution_count": 2,
   "id": "9dafe251-f12e-4746-aec1-a3b72b0dabad",
   "metadata": {},
   "outputs": [
    {
     "data": {
      "text/html": [
       "<div>\n",
       "<style scoped>\n",
       "    .dataframe tbody tr th:only-of-type {\n",
       "        vertical-align: middle;\n",
       "    }\n",
       "\n",
       "    .dataframe tbody tr th {\n",
       "        vertical-align: top;\n",
       "    }\n",
       "\n",
       "    .dataframe thead th {\n",
       "        text-align: right;\n",
       "    }\n",
       "</style>\n",
       "<table border=\"1\" class=\"dataframe\">\n",
       "  <thead>\n",
       "    <tr style=\"text-align: right;\">\n",
       "      <th></th>\n",
       "      <th>case_id</th>\n",
       "      <th>continent</th>\n",
       "      <th>education_of_employee</th>\n",
       "      <th>has_job_experience</th>\n",
       "      <th>requires_job_training</th>\n",
       "      <th>no_of_employees</th>\n",
       "      <th>yr_of_estab</th>\n",
       "      <th>region_of_employment</th>\n",
       "      <th>prevailing_wage</th>\n",
       "      <th>unit_of_wage</th>\n",
       "      <th>full_time_position</th>\n",
       "      <th>case_status</th>\n",
       "    </tr>\n",
       "  </thead>\n",
       "  <tbody>\n",
       "    <tr>\n",
       "      <th>0</th>\n",
       "      <td>EZYV01</td>\n",
       "      <td>Asia</td>\n",
       "      <td>High School</td>\n",
       "      <td>N</td>\n",
       "      <td>N</td>\n",
       "      <td>14513</td>\n",
       "      <td>2007</td>\n",
       "      <td>West</td>\n",
       "      <td>592.2029</td>\n",
       "      <td>Hour</td>\n",
       "      <td>Y</td>\n",
       "      <td>Denied</td>\n",
       "    </tr>\n",
       "    <tr>\n",
       "      <th>1</th>\n",
       "      <td>EZYV02</td>\n",
       "      <td>Asia</td>\n",
       "      <td>Master's</td>\n",
       "      <td>Y</td>\n",
       "      <td>N</td>\n",
       "      <td>2412</td>\n",
       "      <td>2002</td>\n",
       "      <td>Northeast</td>\n",
       "      <td>83425.6500</td>\n",
       "      <td>Year</td>\n",
       "      <td>Y</td>\n",
       "      <td>Certified</td>\n",
       "    </tr>\n",
       "    <tr>\n",
       "      <th>2</th>\n",
       "      <td>EZYV03</td>\n",
       "      <td>Asia</td>\n",
       "      <td>Bachelor's</td>\n",
       "      <td>N</td>\n",
       "      <td>Y</td>\n",
       "      <td>44444</td>\n",
       "      <td>2008</td>\n",
       "      <td>West</td>\n",
       "      <td>122996.8600</td>\n",
       "      <td>Year</td>\n",
       "      <td>Y</td>\n",
       "      <td>Denied</td>\n",
       "    </tr>\n",
       "    <tr>\n",
       "      <th>3</th>\n",
       "      <td>EZYV04</td>\n",
       "      <td>Asia</td>\n",
       "      <td>Bachelor's</td>\n",
       "      <td>N</td>\n",
       "      <td>N</td>\n",
       "      <td>98</td>\n",
       "      <td>1897</td>\n",
       "      <td>West</td>\n",
       "      <td>83434.0300</td>\n",
       "      <td>Year</td>\n",
       "      <td>Y</td>\n",
       "      <td>Denied</td>\n",
       "    </tr>\n",
       "    <tr>\n",
       "      <th>4</th>\n",
       "      <td>EZYV05</td>\n",
       "      <td>Africa</td>\n",
       "      <td>Master's</td>\n",
       "      <td>Y</td>\n",
       "      <td>N</td>\n",
       "      <td>1082</td>\n",
       "      <td>2005</td>\n",
       "      <td>South</td>\n",
       "      <td>149907.3900</td>\n",
       "      <td>Year</td>\n",
       "      <td>Y</td>\n",
       "      <td>Certified</td>\n",
       "    </tr>\n",
       "  </tbody>\n",
       "</table>\n",
       "</div>"
      ],
      "text/plain": [
       "  case_id continent education_of_employee has_job_experience  \\\n",
       "0  EZYV01      Asia           High School                  N   \n",
       "1  EZYV02      Asia              Master's                  Y   \n",
       "2  EZYV03      Asia            Bachelor's                  N   \n",
       "3  EZYV04      Asia            Bachelor's                  N   \n",
       "4  EZYV05    Africa              Master's                  Y   \n",
       "\n",
       "  requires_job_training  no_of_employees  yr_of_estab region_of_employment  \\\n",
       "0                     N            14513         2007                 West   \n",
       "1                     N             2412         2002            Northeast   \n",
       "2                     Y            44444         2008                 West   \n",
       "3                     N               98         1897                 West   \n",
       "4                     N             1082         2005                South   \n",
       "\n",
       "   prevailing_wage unit_of_wage full_time_position case_status  \n",
       "0         592.2029         Hour                  Y      Denied  \n",
       "1       83425.6500         Year                  Y   Certified  \n",
       "2      122996.8600         Year                  Y      Denied  \n",
       "3       83434.0300         Year                  Y      Denied  \n",
       "4      149907.3900         Year                  Y   Certified  "
      ]
     },
     "execution_count": 2,
     "metadata": {},
     "output_type": "execute_result"
    }
   ],
   "source": [
    "df = pd.read_csv('Visadataset.csv')\n",
    "df.head()"
   ]
  },
  {
   "cell_type": "code",
   "execution_count": 3,
   "id": "ba0d870e-af47-4e1d-ac6b-681c979d1fda",
   "metadata": {},
   "outputs": [
    {
     "data": {
      "text/plain": [
       "(25480, 12)"
      ]
     },
     "execution_count": 3,
     "metadata": {},
     "output_type": "execute_result"
    }
   ],
   "source": [
    "df.shape"
   ]
  },
  {
   "cell_type": "markdown",
   "id": "4539dcf1-8083-421a-8aa9-15adfb2fbc44",
   "metadata": {},
   "source": [
    "## Data Cleaning"
   ]
  },
  {
   "cell_type": "markdown",
   "id": "634b1a40-5119-4dd6-a7c3-91f682132106",
   "metadata": {},
   "source": [
    "* Handling Missing values\n",
    "* Handling Duplicates\n",
    "* Check data type\n",
    "* Understand the dataset"
   ]
  },
  {
   "cell_type": "markdown",
   "id": "d02de99e-d8dc-4721-aebd-2deac8acf6a2",
   "metadata": {},
   "source": [
    "### Check Null Values\n"
   ]
  },
  {
   "cell_type": "code",
   "execution_count": 3,
   "id": "7c91db3b-78a1-40b9-b25d-6d99c01d7bb6",
   "metadata": {},
   "outputs": [
    {
     "data": {
      "text/plain": [
       "case_id                  0\n",
       "continent                0\n",
       "education_of_employee    0\n",
       "has_job_experience       0\n",
       "requires_job_training    0\n",
       "no_of_employees          0\n",
       "yr_of_estab              0\n",
       "region_of_employment     0\n",
       "prevailing_wage          0\n",
       "unit_of_wage             0\n",
       "full_time_position       0\n",
       "case_status              0\n",
       "dtype: int64"
      ]
     },
     "execution_count": 3,
     "metadata": {},
     "output_type": "execute_result"
    }
   ],
   "source": [
    "df.isna().sum()"
   ]
  },
  {
   "cell_type": "markdown",
   "id": "db20f243-ea4d-47e3-b630-21fb3b3d1a16",
   "metadata": {},
   "source": [
    "* There are no null values"
   ]
  },
  {
   "cell_type": "code",
   "execution_count": 4,
   "id": "1ee507e6-989a-4972-809c-9ef866326661",
   "metadata": {},
   "outputs": [
    {
     "data": {
      "text/plain": [
       "0"
      ]
     },
     "execution_count": 4,
     "metadata": {},
     "output_type": "execute_result"
    }
   ],
   "source": [
    "df.duplicated().sum()"
   ]
  },
  {
   "cell_type": "markdown",
   "id": "142b9bbc-a628-43dc-9181-06dae465bb75",
   "metadata": {},
   "source": [
    "* Remove case_id from the dataset as it cannot used in Model Training"
   ]
  },
  {
   "cell_type": "code",
   "execution_count": 5,
   "id": "67e94b70-6e1e-450e-944e-54682a3a36ee",
   "metadata": {},
   "outputs": [
    {
     "data": {
      "text/html": [
       "<div>\n",
       "<style scoped>\n",
       "    .dataframe tbody tr th:only-of-type {\n",
       "        vertical-align: middle;\n",
       "    }\n",
       "\n",
       "    .dataframe tbody tr th {\n",
       "        vertical-align: top;\n",
       "    }\n",
       "\n",
       "    .dataframe thead th {\n",
       "        text-align: right;\n",
       "    }\n",
       "</style>\n",
       "<table border=\"1\" class=\"dataframe\">\n",
       "  <thead>\n",
       "    <tr style=\"text-align: right;\">\n",
       "      <th></th>\n",
       "      <th>continent</th>\n",
       "      <th>education_of_employee</th>\n",
       "      <th>has_job_experience</th>\n",
       "      <th>requires_job_training</th>\n",
       "      <th>no_of_employees</th>\n",
       "      <th>yr_of_estab</th>\n",
       "      <th>region_of_employment</th>\n",
       "      <th>prevailing_wage</th>\n",
       "      <th>unit_of_wage</th>\n",
       "      <th>full_time_position</th>\n",
       "      <th>case_status</th>\n",
       "    </tr>\n",
       "  </thead>\n",
       "  <tbody>\n",
       "    <tr>\n",
       "      <th>0</th>\n",
       "      <td>Asia</td>\n",
       "      <td>High School</td>\n",
       "      <td>N</td>\n",
       "      <td>N</td>\n",
       "      <td>14513</td>\n",
       "      <td>2007</td>\n",
       "      <td>West</td>\n",
       "      <td>592.2029</td>\n",
       "      <td>Hour</td>\n",
       "      <td>Y</td>\n",
       "      <td>Denied</td>\n",
       "    </tr>\n",
       "    <tr>\n",
       "      <th>1</th>\n",
       "      <td>Asia</td>\n",
       "      <td>Master's</td>\n",
       "      <td>Y</td>\n",
       "      <td>N</td>\n",
       "      <td>2412</td>\n",
       "      <td>2002</td>\n",
       "      <td>Northeast</td>\n",
       "      <td>83425.6500</td>\n",
       "      <td>Year</td>\n",
       "      <td>Y</td>\n",
       "      <td>Certified</td>\n",
       "    </tr>\n",
       "    <tr>\n",
       "      <th>2</th>\n",
       "      <td>Asia</td>\n",
       "      <td>Bachelor's</td>\n",
       "      <td>N</td>\n",
       "      <td>Y</td>\n",
       "      <td>44444</td>\n",
       "      <td>2008</td>\n",
       "      <td>West</td>\n",
       "      <td>122996.8600</td>\n",
       "      <td>Year</td>\n",
       "      <td>Y</td>\n",
       "      <td>Denied</td>\n",
       "    </tr>\n",
       "    <tr>\n",
       "      <th>3</th>\n",
       "      <td>Asia</td>\n",
       "      <td>Bachelor's</td>\n",
       "      <td>N</td>\n",
       "      <td>N</td>\n",
       "      <td>98</td>\n",
       "      <td>1897</td>\n",
       "      <td>West</td>\n",
       "      <td>83434.0300</td>\n",
       "      <td>Year</td>\n",
       "      <td>Y</td>\n",
       "      <td>Denied</td>\n",
       "    </tr>\n",
       "    <tr>\n",
       "      <th>4</th>\n",
       "      <td>Africa</td>\n",
       "      <td>Master's</td>\n",
       "      <td>Y</td>\n",
       "      <td>N</td>\n",
       "      <td>1082</td>\n",
       "      <td>2005</td>\n",
       "      <td>South</td>\n",
       "      <td>149907.3900</td>\n",
       "      <td>Year</td>\n",
       "      <td>Y</td>\n",
       "      <td>Certified</td>\n",
       "    </tr>\n",
       "  </tbody>\n",
       "</table>\n",
       "</div>"
      ],
      "text/plain": [
       "  continent education_of_employee has_job_experience requires_job_training  \\\n",
       "0      Asia           High School                  N                     N   \n",
       "1      Asia              Master's                  Y                     N   \n",
       "2      Asia            Bachelor's                  N                     Y   \n",
       "3      Asia            Bachelor's                  N                     N   \n",
       "4    Africa              Master's                  Y                     N   \n",
       "\n",
       "   no_of_employees  yr_of_estab region_of_employment  prevailing_wage  \\\n",
       "0            14513         2007                 West         592.2029   \n",
       "1             2412         2002            Northeast       83425.6500   \n",
       "2            44444         2008                 West      122996.8600   \n",
       "3               98         1897                 West       83434.0300   \n",
       "4             1082         2005                South      149907.3900   \n",
       "\n",
       "  unit_of_wage full_time_position case_status  \n",
       "0         Hour                  Y      Denied  \n",
       "1         Year                  Y   Certified  \n",
       "2         Year                  Y      Denied  \n",
       "3         Year                  Y      Denied  \n",
       "4         Year                  Y   Certified  "
      ]
     },
     "execution_count": 5,
     "metadata": {},
     "output_type": "execute_result"
    }
   ],
   "source": [
    "df.drop('case_id',inplace=True,axis=1)\n",
    "df.head()"
   ]
  },
  {
   "cell_type": "markdown",
   "id": "91c57454-9587-4ef2-bec9-6a39ea5dd1eb",
   "metadata": {},
   "source": [
    "# Feature Engineering"
   ]
  },
  {
   "cell_type": "code",
   "execution_count": 7,
   "id": "291200a5-a02f-4588-8653-570c51ffb5cd",
   "metadata": {},
   "outputs": [],
   "source": [
    "# import date class from datetime module\n",
    "from datetime import date\n",
    "\n",
    "# creating the date object of today's date\n",
    "todays_date = date.today()\n",
    "current_year = todays_date.year"
   ]
  },
  {
   "cell_type": "code",
   "execution_count": 8,
   "id": "e784c98b-7623-4204-88a4-d96b430dd461",
   "metadata": {},
   "outputs": [
    {
     "data": {
      "text/plain": [
       "2025"
      ]
     },
     "execution_count": 8,
     "metadata": {},
     "output_type": "execute_result"
    }
   ],
   "source": [
    "current_year"
   ]
  },
  {
   "cell_type": "markdown",
   "id": "91c0bf30-e28e-4edf-8b32-56a65afe28c2",
   "metadata": {},
   "source": [
    "**Subtract current year with year of estab to get company's age**"
   ]
  },
  {
   "cell_type": "code",
   "execution_count": 9,
   "id": "3ecfe1f6-62ba-4f4c-94d0-0ad1c61748f6",
   "metadata": {},
   "outputs": [],
   "source": [
    "df['company_age'] = current_year - df['yr_of_estab']"
   ]
  },
  {
   "cell_type": "code",
   "execution_count": 10,
   "id": "521755b0-b060-4c8e-8508-7f9789472e6e",
   "metadata": {},
   "outputs": [
    {
     "data": {
      "text/html": [
       "<div>\n",
       "<style scoped>\n",
       "    .dataframe tbody tr th:only-of-type {\n",
       "        vertical-align: middle;\n",
       "    }\n",
       "\n",
       "    .dataframe tbody tr th {\n",
       "        vertical-align: top;\n",
       "    }\n",
       "\n",
       "    .dataframe thead th {\n",
       "        text-align: right;\n",
       "    }\n",
       "</style>\n",
       "<table border=\"1\" class=\"dataframe\">\n",
       "  <thead>\n",
       "    <tr style=\"text-align: right;\">\n",
       "      <th></th>\n",
       "      <th>continent</th>\n",
       "      <th>education_of_employee</th>\n",
       "      <th>has_job_experience</th>\n",
       "      <th>requires_job_training</th>\n",
       "      <th>no_of_employees</th>\n",
       "      <th>yr_of_estab</th>\n",
       "      <th>region_of_employment</th>\n",
       "      <th>prevailing_wage</th>\n",
       "      <th>unit_of_wage</th>\n",
       "      <th>full_time_position</th>\n",
       "      <th>case_status</th>\n",
       "      <th>company_age</th>\n",
       "    </tr>\n",
       "  </thead>\n",
       "  <tbody>\n",
       "    <tr>\n",
       "      <th>0</th>\n",
       "      <td>Asia</td>\n",
       "      <td>High School</td>\n",
       "      <td>N</td>\n",
       "      <td>N</td>\n",
       "      <td>14513</td>\n",
       "      <td>2007</td>\n",
       "      <td>West</td>\n",
       "      <td>592.2029</td>\n",
       "      <td>Hour</td>\n",
       "      <td>Y</td>\n",
       "      <td>Denied</td>\n",
       "      <td>18</td>\n",
       "    </tr>\n",
       "    <tr>\n",
       "      <th>1</th>\n",
       "      <td>Asia</td>\n",
       "      <td>Master's</td>\n",
       "      <td>Y</td>\n",
       "      <td>N</td>\n",
       "      <td>2412</td>\n",
       "      <td>2002</td>\n",
       "      <td>Northeast</td>\n",
       "      <td>83425.6500</td>\n",
       "      <td>Year</td>\n",
       "      <td>Y</td>\n",
       "      <td>Certified</td>\n",
       "      <td>23</td>\n",
       "    </tr>\n",
       "    <tr>\n",
       "      <th>2</th>\n",
       "      <td>Asia</td>\n",
       "      <td>Bachelor's</td>\n",
       "      <td>N</td>\n",
       "      <td>Y</td>\n",
       "      <td>44444</td>\n",
       "      <td>2008</td>\n",
       "      <td>West</td>\n",
       "      <td>122996.8600</td>\n",
       "      <td>Year</td>\n",
       "      <td>Y</td>\n",
       "      <td>Denied</td>\n",
       "      <td>17</td>\n",
       "    </tr>\n",
       "    <tr>\n",
       "      <th>3</th>\n",
       "      <td>Asia</td>\n",
       "      <td>Bachelor's</td>\n",
       "      <td>N</td>\n",
       "      <td>N</td>\n",
       "      <td>98</td>\n",
       "      <td>1897</td>\n",
       "      <td>West</td>\n",
       "      <td>83434.0300</td>\n",
       "      <td>Year</td>\n",
       "      <td>Y</td>\n",
       "      <td>Denied</td>\n",
       "      <td>128</td>\n",
       "    </tr>\n",
       "    <tr>\n",
       "      <th>4</th>\n",
       "      <td>Africa</td>\n",
       "      <td>Master's</td>\n",
       "      <td>Y</td>\n",
       "      <td>N</td>\n",
       "      <td>1082</td>\n",
       "      <td>2005</td>\n",
       "      <td>South</td>\n",
       "      <td>149907.3900</td>\n",
       "      <td>Year</td>\n",
       "      <td>Y</td>\n",
       "      <td>Certified</td>\n",
       "      <td>20</td>\n",
       "    </tr>\n",
       "  </tbody>\n",
       "</table>\n",
       "</div>"
      ],
      "text/plain": [
       "  continent education_of_employee has_job_experience requires_job_training  \\\n",
       "0      Asia           High School                  N                     N   \n",
       "1      Asia              Master's                  Y                     N   \n",
       "2      Asia            Bachelor's                  N                     Y   \n",
       "3      Asia            Bachelor's                  N                     N   \n",
       "4    Africa              Master's                  Y                     N   \n",
       "\n",
       "   no_of_employees  yr_of_estab region_of_employment  prevailing_wage  \\\n",
       "0            14513         2007                 West         592.2029   \n",
       "1             2412         2002            Northeast       83425.6500   \n",
       "2            44444         2008                 West      122996.8600   \n",
       "3               98         1897                 West       83434.0300   \n",
       "4             1082         2005                South      149907.3900   \n",
       "\n",
       "  unit_of_wage full_time_position case_status  company_age  \n",
       "0         Hour                  Y      Denied           18  \n",
       "1         Year                  Y   Certified           23  \n",
       "2         Year                  Y      Denied           17  \n",
       "3         Year                  Y      Denied          128  \n",
       "4         Year                  Y   Certified           20  "
      ]
     },
     "execution_count": 10,
     "metadata": {},
     "output_type": "execute_result"
    }
   ],
   "source": [
    "df.head()"
   ]
  },
  {
   "cell_type": "code",
   "execution_count": 11,
   "id": "f1f934cb-645a-457a-b6aa-78fa92452e36",
   "metadata": {},
   "outputs": [
    {
     "data": {
      "text/html": [
       "<div>\n",
       "<style scoped>\n",
       "    .dataframe tbody tr th:only-of-type {\n",
       "        vertical-align: middle;\n",
       "    }\n",
       "\n",
       "    .dataframe tbody tr th {\n",
       "        vertical-align: top;\n",
       "    }\n",
       "\n",
       "    .dataframe thead th {\n",
       "        text-align: right;\n",
       "    }\n",
       "</style>\n",
       "<table border=\"1\" class=\"dataframe\">\n",
       "  <thead>\n",
       "    <tr style=\"text-align: right;\">\n",
       "      <th></th>\n",
       "      <th>continent</th>\n",
       "      <th>education_of_employee</th>\n",
       "      <th>has_job_experience</th>\n",
       "      <th>requires_job_training</th>\n",
       "      <th>no_of_employees</th>\n",
       "      <th>region_of_employment</th>\n",
       "      <th>prevailing_wage</th>\n",
       "      <th>unit_of_wage</th>\n",
       "      <th>full_time_position</th>\n",
       "      <th>case_status</th>\n",
       "      <th>company_age</th>\n",
       "    </tr>\n",
       "  </thead>\n",
       "  <tbody>\n",
       "    <tr>\n",
       "      <th>0</th>\n",
       "      <td>Asia</td>\n",
       "      <td>High School</td>\n",
       "      <td>N</td>\n",
       "      <td>N</td>\n",
       "      <td>14513</td>\n",
       "      <td>West</td>\n",
       "      <td>592.2029</td>\n",
       "      <td>Hour</td>\n",
       "      <td>Y</td>\n",
       "      <td>Denied</td>\n",
       "      <td>18</td>\n",
       "    </tr>\n",
       "    <tr>\n",
       "      <th>1</th>\n",
       "      <td>Asia</td>\n",
       "      <td>Master's</td>\n",
       "      <td>Y</td>\n",
       "      <td>N</td>\n",
       "      <td>2412</td>\n",
       "      <td>Northeast</td>\n",
       "      <td>83425.6500</td>\n",
       "      <td>Year</td>\n",
       "      <td>Y</td>\n",
       "      <td>Certified</td>\n",
       "      <td>23</td>\n",
       "    </tr>\n",
       "    <tr>\n",
       "      <th>2</th>\n",
       "      <td>Asia</td>\n",
       "      <td>Bachelor's</td>\n",
       "      <td>N</td>\n",
       "      <td>Y</td>\n",
       "      <td>44444</td>\n",
       "      <td>West</td>\n",
       "      <td>122996.8600</td>\n",
       "      <td>Year</td>\n",
       "      <td>Y</td>\n",
       "      <td>Denied</td>\n",
       "      <td>17</td>\n",
       "    </tr>\n",
       "    <tr>\n",
       "      <th>3</th>\n",
       "      <td>Asia</td>\n",
       "      <td>Bachelor's</td>\n",
       "      <td>N</td>\n",
       "      <td>N</td>\n",
       "      <td>98</td>\n",
       "      <td>West</td>\n",
       "      <td>83434.0300</td>\n",
       "      <td>Year</td>\n",
       "      <td>Y</td>\n",
       "      <td>Denied</td>\n",
       "      <td>128</td>\n",
       "    </tr>\n",
       "    <tr>\n",
       "      <th>4</th>\n",
       "      <td>Africa</td>\n",
       "      <td>Master's</td>\n",
       "      <td>Y</td>\n",
       "      <td>N</td>\n",
       "      <td>1082</td>\n",
       "      <td>South</td>\n",
       "      <td>149907.3900</td>\n",
       "      <td>Year</td>\n",
       "      <td>Y</td>\n",
       "      <td>Certified</td>\n",
       "      <td>20</td>\n",
       "    </tr>\n",
       "  </tbody>\n",
       "</table>\n",
       "</div>"
      ],
      "text/plain": [
       "  continent education_of_employee has_job_experience requires_job_training  \\\n",
       "0      Asia           High School                  N                     N   \n",
       "1      Asia              Master's                  Y                     N   \n",
       "2      Asia            Bachelor's                  N                     Y   \n",
       "3      Asia            Bachelor's                  N                     N   \n",
       "4    Africa              Master's                  Y                     N   \n",
       "\n",
       "   no_of_employees region_of_employment  prevailing_wage unit_of_wage  \\\n",
       "0            14513                 West         592.2029         Hour   \n",
       "1             2412            Northeast       83425.6500         Year   \n",
       "2            44444                 West      122996.8600         Year   \n",
       "3               98                 West       83434.0300         Year   \n",
       "4             1082                South      149907.3900         Year   \n",
       "\n",
       "  full_time_position case_status  company_age  \n",
       "0                  Y      Denied           18  \n",
       "1                  Y   Certified           23  \n",
       "2                  Y      Denied           17  \n",
       "3                  Y      Denied          128  \n",
       "4                  Y   Certified           20  "
      ]
     },
     "execution_count": 11,
     "metadata": {},
     "output_type": "execute_result"
    }
   ],
   "source": [
    "df.drop('yr_of_estab',inplace=True,axis=1)\n",
    "df.head()"
   ]
  },
  {
   "cell_type": "markdown",
   "id": "26383885-b948-4fe4-b660-e689916a8507",
   "metadata": {},
   "source": [
    "## Type of Features"
   ]
  },
  {
   "cell_type": "code",
   "execution_count": 12,
   "id": "c43035c2-5feb-4698-ad3d-9d4966f9662c",
   "metadata": {},
   "outputs": [
    {
     "data": {
      "text/plain": [
       "['no_of_employees', 'prevailing_wage', 'company_age']"
      ]
     },
     "execution_count": 12,
     "metadata": {},
     "output_type": "execute_result"
    }
   ],
   "source": [
    "num_features = [feature for feature in df.columns if df[feature].dtype != 'O']\n",
    "num_features"
   ]
  },
  {
   "cell_type": "code",
   "execution_count": 13,
   "id": "22d48016-27a3-4812-b75d-cf1396bedfb9",
   "metadata": {},
   "outputs": [
    {
     "data": {
      "text/plain": [
       "['continent',\n",
       " 'education_of_employee',\n",
       " 'has_job_experience',\n",
       " 'requires_job_training',\n",
       " 'region_of_employment',\n",
       " 'unit_of_wage',\n",
       " 'full_time_position',\n",
       " 'case_status']"
      ]
     },
     "execution_count": 13,
     "metadata": {},
     "output_type": "execute_result"
    }
   ],
   "source": [
    "cat_features = [feature for feature in df.columns if df[feature].dtype == 'O']\n",
    "cat_features"
   ]
  },
  {
   "cell_type": "markdown",
   "id": "22364a5f-2e25-4508-b9de-84c0b6705ed5",
   "metadata": {},
   "source": [
    "# Split X and Y"
   ]
  },
  {
   "cell_type": "markdown",
   "id": "1e81f119-64c1-447b-9448-32fffde73b63",
   "metadata": {},
   "source": [
    "* **Split Dataframe to X and y**\n",
    "* **Here we set a variable X i.e, independent columns, and a variable y i.e, dependent column as the “Case_Status” column.**"
   ]
  },
  {
   "cell_type": "code",
   "execution_count": 14,
   "id": "65e3b3f6-d4e9-41d6-8acf-b640d55b57f1",
   "metadata": {},
   "outputs": [],
   "source": [
    "X = df.drop('case_status',axis=1)\n",
    "y = df['case_status']"
   ]
  },
  {
   "cell_type": "code",
   "execution_count": 15,
   "id": "af7e2fec-1720-452b-89d6-7b247dd6175c",
   "metadata": {},
   "outputs": [
    {
     "data": {
      "text/plain": [
       "0       Denied\n",
       "1    Certified\n",
       "2       Denied\n",
       "3       Denied\n",
       "4    Certified\n",
       "Name: case_status, dtype: object"
      ]
     },
     "execution_count": 15,
     "metadata": {},
     "output_type": "execute_result"
    }
   ],
   "source": [
    "y.head()"
   ]
  },
  {
   "cell_type": "markdown",
   "id": "6041b98b-1239-41dd-ac76-1c0061bf5316",
   "metadata": {},
   "source": [
    "#### Manual encoding target column"
   ]
  },
  {
   "cell_type": "code",
   "execution_count": 16,
   "id": "4f3c95c6-317f-4958-a279-f2464b497ff3",
   "metadata": {},
   "outputs": [],
   "source": [
    "# If the target column has Denied it is encoded as 1 others as 0\n",
    "y = np.where(y=='Denied',1,0)"
   ]
  },
  {
   "cell_type": "code",
   "execution_count": 17,
   "id": "e319a5c2-8ca4-4e4f-adda-baf3cc0ba129",
   "metadata": {},
   "outputs": [
    {
     "data": {
      "text/plain": [
       "array([1, 0, 1, ..., 0, 0, 0])"
      ]
     },
     "execution_count": 17,
     "metadata": {},
     "output_type": "execute_result"
    }
   ],
   "source": [
    "y"
   ]
  },
  {
   "cell_type": "markdown",
   "id": "ee3e16eb-2fd8-4b24-a0a8-109e1909a571",
   "metadata": {},
   "source": [
    "# Feature Transformation"
   ]
  },
  {
   "cell_type": "code",
   "execution_count": 18,
   "id": "6cda460c-dce6-4859-9ce6-2af5fb9c0daa",
   "metadata": {},
   "outputs": [],
   "source": [
    "# checking Distribution of data, before scaling"
   ]
  },
  {
   "cell_type": "code",
   "execution_count": 19,
   "id": "c30c6139-35e4-4cb5-b253-106d1abeb3c3",
   "metadata": {},
   "outputs": [
    {
     "data": {
      "image/png": "[encoded data removed]",
      "text/plain": [
       "<Figure size 1200x600 with 3 Axes>"
      ]
     },
     "metadata": {},
     "output_type": "display_data"
    }
   ],
   "source": [
    "plt.figure(figsize=(12,6))\n",
    "for i, col in enumerate(['no_of_employees','prevailing_wage','company_age']):\n",
    "    plt.subplot(2, 2, i+1)\n",
    "    sns.histplot(x=X[col], color='indianred')\n",
    "    plt.xlabel(col)\n",
    "    plt.tight_layout()"
   ]
  },
  {
   "cell_type": "markdown",
   "id": "50f8b358-8551-4c85-b994-c6ddef1a8bcf",
   "metadata": {},
   "source": [
    "* No of employees and company age column is skewed.\n",
    "* Apply a power transform feature wise to make data more Gaussian-like."
   ]
  },
  {
   "cell_type": "raw",
   "id": "fc54d0d7-99b6-4728-a5d6-bb72241a5b5b",
   "metadata": {},
   "source": [
    "Power transforms are a family of parametric, monotonic transformations that are applied \n",
    "to make data more Gaussian-like. This is useful for modeling issues related to heteroscedasticity\n",
    "(non-constant variance), or other situtaions where normality is desired."
   ]
  },
  {
   "cell_type": "raw",
   "id": "360e5161-fdc3-441f-84b9-a91e40038476",
   "metadata": {},
   "source": [
    "Currently, PowerTransformer supports the Box-Cox transform and the Yeo-Johnson transform."
   ]
  },
  {
   "cell_type": "markdown",
   "id": "8ea1ba3f-482d-439b-87ae-9583b8775247",
   "metadata": {},
   "source": [
    "**What is Skewness ?**\n",
    "\n",
    "* Skewness refers to a distortion or asymmetry that deviates from the symmetrical bell\n",
    "curve, or normal distribution, in a set of data. If the curve is shifted to the left or to the right, it is said to be skewed. Skewness can be quantified as a representation of the extent to which a given distribution varies from a normal distribution.\n",
    "A normal distribution has a skew of zero"
   ]
  },
  {
   "cell_type": "code",
   "execution_count": 20,
   "id": "725b57bf-3760-4f79-97b7-4505fbfc7674",
   "metadata": {},
   "outputs": [
    {
     "data": {
      "text/plain": [
       "no_of_employees    12.265260\n",
       "prevailing_wage     0.755776\n",
       "company_age         2.037301\n",
       "dtype: float64"
      ]
     },
     "execution_count": 20,
     "metadata": {},
     "output_type": "execute_result"
    }
   ],
   "source": [
    "# Check skewness\n",
    "X[num_features].skew(axis=0,skipna=True)"
   ]
  },
  {
   "cell_type": "markdown",
   "id": "dd610e36-86e1-4d80-90e9-0cf5069b2625",
   "metadata": {},
   "source": [
    "- Positiviely Skewed : company_age, no_of_employees.\n",
    "- We can handle outliers and then check the skewness."
   ]
  },
  {
   "cell_type": "markdown",
   "id": "0cf76039-831a-4013-af98-0196b317cf90",
   "metadata": {},
   "source": [
    "# Apply Power Transformer to Check if it can reduces the outliers"
   ]
  },
  {
   "cell_type": "code",
   "execution_count": 21,
   "id": "350d9a42-4737-4292-9903-d7120281518d",
   "metadata": {},
   "outputs": [],
   "source": [
    "from sklearn.preprocessing import PowerTransformer\n",
    "pt = PowerTransformer(method='yeo-johnson')\n",
    "transform_features = ['company_age', 'no_of_employees']\n",
    "X_copy = pt.fit_transform(X[transform_features])"
   ]
  },
  {
   "cell_type": "code",
   "execution_count": 22,
   "id": "5a26f6df-a6e7-4f4c-bd82-6ebff29c97a2",
   "metadata": {},
   "outputs": [
    {
     "data": {
      "text/html": [
       "<div>\n",
       "<style scoped>\n",
       "    .dataframe tbody tr th:only-of-type {\n",
       "        vertical-align: middle;\n",
       "    }\n",
       "\n",
       "    .dataframe tbody tr th {\n",
       "        vertical-align: top;\n",
       "    }\n",
       "\n",
       "    .dataframe thead th {\n",
       "        text-align: right;\n",
       "    }\n",
       "</style>\n",
       "<table border=\"1\" class=\"dataframe\">\n",
       "  <thead>\n",
       "    <tr style=\"text-align: right;\">\n",
       "      <th></th>\n",
       "      <th>company_age</th>\n",
       "      <th>no_of_employees</th>\n",
       "    </tr>\n",
       "  </thead>\n",
       "  <tbody>\n",
       "    <tr>\n",
       "      <th>0</th>\n",
       "      <td>-0.955551</td>\n",
       "      <td>1.517300</td>\n",
       "    </tr>\n",
       "    <tr>\n",
       "      <th>1</th>\n",
       "      <td>-0.467001</td>\n",
       "      <td>0.030912</td>\n",
       "    </tr>\n",
       "    <tr>\n",
       "      <th>2</th>\n",
       "      <td>-1.078363</td>\n",
       "      <td>2.885076</td>\n",
       "    </tr>\n",
       "    <tr>\n",
       "      <th>3</th>\n",
       "      <td>1.630914</td>\n",
       "      <td>-1.343550</td>\n",
       "    </tr>\n",
       "    <tr>\n",
       "      <th>4</th>\n",
       "      <td>-0.738126</td>\n",
       "      <td>-0.432287</td>\n",
       "    </tr>\n",
       "  </tbody>\n",
       "</table>\n",
       "</div>"
      ],
      "text/plain": [
       "   company_age  no_of_employees\n",
       "0    -0.955551         1.517300\n",
       "1    -0.467001         0.030912\n",
       "2    -1.078363         2.885076\n",
       "3     1.630914        -1.343550\n",
       "4    -0.738126        -0.432287"
      ]
     },
     "execution_count": 22,
     "metadata": {},
     "output_type": "execute_result"
    }
   ],
   "source": [
    "X_copy = pd.DataFrame(X_copy, columns=transform_features)\n",
    "X_copy.head()"
   ]
  },
  {
   "cell_type": "code",
   "execution_count": 23,
   "id": "c46fbf68-7fcb-4b2b-bb44-f9afd810e566",
   "metadata": {},
   "outputs": [
    {
     "data": {
      "image/png": "[encoded data removed]",
      "text/plain": [
       "<Figure size 1200x500 with 2 Axes>"
      ]
     },
     "metadata": {},
     "output_type": "display_data"
    }
   ],
   "source": [
    "plt.figure(figsize=(12, 5))\n",
    "for i, col in enumerate(transform_features):\n",
    "    plt.subplot(1, 2, i+1)\n",
    "    sns.histplot(x=X_copy[col], color='indianred')\n",
    "    plt.xlabel(col)\n",
    "    plt.tight_layout()"
   ]
  },
  {
   "cell_type": "markdown",
   "id": "5394f4fe-a0a6-4c11-98b0-3deca8ab6eb2",
   "metadata": {},
   "source": [
    "### Checking Skewness"
   ]
  },
  {
   "cell_type": "code",
   "execution_count": 24,
   "id": "05de1ef8-e0bf-4d47-8b07-e6854bf42e4a",
   "metadata": {},
   "outputs": [
    {
     "data": {
      "text/plain": [
       "company_age        0.112260\n",
       "no_of_employees    0.399339\n",
       "dtype: float64"
      ]
     },
     "execution_count": 24,
     "metadata": {},
     "output_type": "execute_result"
    }
   ],
   "source": [
    "X_copy.skew(axis=0,skipna=True)"
   ]
  },
  {
   "cell_type": "markdown",
   "id": "97818c95-dc33-48f4-b363-8fc0cec48573",
   "metadata": {},
   "source": [
    "- Here Yeo-Johnson is used and it supports both positive or negative data for transformation.\n",
    "- So Power Transformer with yeo-johnson can be used."
   ]
  },
  {
   "cell_type": "code",
   "execution_count": 24,
   "id": "9445b5b6-2c81-4a63-9b15-adfdfc9ed776",
   "metadata": {},
   "outputs": [
    {
     "name": "stdout",
     "output_type": "stream",
     "text": [
      "continent : 6\n",
      "education_of_employee : 4\n",
      "has_job_experience : 2\n",
      "requires_job_training : 2\n",
      "region_of_employment : 5\n",
      "unit_of_wage : 4\n",
      "full_time_position : 2\n",
      "case_status : 2\n"
     ]
    }
   ],
   "source": [
    "for feature in cat_features:\n",
    "    print(feature,':', df[feature].nunique())"
   ]
  },
  {
   "cell_type": "markdown",
   "id": "39b7c82b-a268-4510-9cab-21dc9a775542",
   "metadata": {},
   "source": [
    "# Feature Encoding and Scaling"
   ]
  },
  {
   "cell_type": "markdown",
   "id": "e31dba4b-8533-4a1a-b0c0-b5a888fec5c5",
   "metadata": {},
   "source": [
    " **One Hot Encoding for Columns which had lesser unique values and not ordinal**\n",
    "* One hot encoding is a process by which categorical variables are converted into a form that could be provided to ML algorithms to do a better job in prediction.\n",
    "\n",
    "**Ordinal Encoding for Columns which has many unique categories** \n",
    "* Ordinal encoding is used here as label encoder is supported for column transformer.\n",
    "* Ordinal encoding is used for Ordinal Variable. Variable comprises a finite set of discrete values with a ranked ordering between values.\n",
    "\n",
    "**Standard Scaler** \n",
    "* Standardize features by removing the mean and scaling to unit variance.\n",
    "\n",
    "**Power Transformer**\n",
    "* Power transforms are a technique for transforming numerical input or output variables to have a Gaussian or more-Gaussian-like probability distribution."
   ]
  },
  {
   "cell_type": "markdown",
   "id": "f08fada7-72e4-47d4-bceb-426e5eaac467",
   "metadata": {},
   "source": [
    "### Selecting number features for preprocessing"
   ]
  },
  {
   "cell_type": "code",
   "execution_count": 25,
   "id": "160e6859-94f7-48e2-a2ad-7c1c53bf0868",
   "metadata": {},
   "outputs": [],
   "source": [
    "num_features = list(X.select_dtypes(exclude=\"object\").columns)"
   ]
  },
  {
   "cell_type": "code",
   "execution_count": 26,
   "id": "2bb665d3-de09-4ca4-922c-ed7cff055b3a",
   "metadata": {},
   "outputs": [
    {
     "data": {
      "text/plain": [
       "['no_of_employees', 'prevailing_wage', 'company_age']"
      ]
     },
     "execution_count": 26,
     "metadata": {},
     "output_type": "execute_result"
    }
   ],
   "source": [
    "num_features"
   ]
  },
  {
   "cell_type": "markdown",
   "id": "0634e9b9-ff28-4c03-a1d5-b65a44c77d97",
   "metadata": {},
   "source": [
    "# Preprocessing using Column Transformer"
   ]
  },
  {
   "cell_type": "code",
   "execution_count": 27,
   "id": "fbc43e53-32b5-4261-88ac-9de9ddb56f96",
   "metadata": {},
   "outputs": [],
   "source": [
    "# Create Column Transformer with 3 types of transformers\n",
    "or_columns = ['has_job_experience','requires_job_training','full_time_position','education_of_employee']\n",
    "oh_columns = ['continent','unit_of_wage','region_of_employment']\n",
    "transform_columns= ['no_of_employees','company_age']\n",
    "\n",
    "from sklearn.preprocessing import OneHotEncoder, StandardScaler,OrdinalEncoder, PowerTransformer\n",
    "from sklearn.compose import ColumnTransformer \n",
    "from sklearn.pipeline import Pipeline\n",
    "\n",
    "numeric_transformer = StandardScaler()\n",
    "oh_transformer = OneHotEncoder()\n",
    "ordinal_encoder = OrdinalEncoder()\n",
    "\n",
    "transform_pipe = Pipeline(steps=[\n",
    "    ('transformer', PowerTransformer(method='yeo-johnson'))\n",
    "])\n",
    "\n",
    "preprocessor = ColumnTransformer(\n",
    "    [\n",
    "        (\"OneHotEncoder\", oh_transformer, oh_columns),\n",
    "        (\"Ordinal_Encoder\", ordinal_encoder, or_columns),\n",
    "        (\"Transformer\", transform_pipe, transform_columns),\n",
    "        (\"StandardScaler\", numeric_transformer, num_features)\n",
    "    ]\n",
    ")"
   ]
  },
  {
   "cell_type": "code",
   "execution_count": 28,
   "id": "0fcfa0f8-4a05-4a4e-adc2-2eae4a1b91aa",
   "metadata": {},
   "outputs": [],
   "source": [
    "X = preprocessor.fit_transform(X)"
   ]
  },
  {
   "cell_type": "code",
   "execution_count": 29,
   "id": "14cc266f-dbdc-46fe-a92e-86969d701f31",
   "metadata": {},
   "outputs": [
    {
     "data": {
      "text/plain": [
       "array([[ 0.        ,  1.        ,  0.        , ...,  0.38666657,\n",
       "        -1.39853722, -0.65122993],\n",
       "       [ 0.        ,  1.        ,  0.        , ..., -0.14228155,\n",
       "         0.1698353 , -0.53321103],\n",
       "       [ 0.        ,  1.        ,  0.        , ...,  1.69498375,\n",
       "         0.91907852, -0.6748337 ],\n",
       "       ...,\n",
       "       [ 0.        ,  1.        ,  0.        , ..., -0.19871259,\n",
       "         1.36027953,  1.63833662],\n",
       "       [ 0.        ,  1.        ,  0.        , ..., -0.16387483,\n",
       "         0.22150859,  2.18122353],\n",
       "       [ 0.        ,  1.        ,  0.        , ..., -0.10805575,\n",
       "        -0.06776315,  0.45814768]])"
      ]
     },
     "execution_count": 29,
     "metadata": {},
     "output_type": "execute_result"
    }
   ],
   "source": [
    "X"
   ]
  },
  {
   "cell_type": "markdown",
   "id": "30905f46-cbde-4865-8d9e-66130ea6cfce",
   "metadata": {},
   "source": [
    "# Classification"
   ]
  },
  {
   "cell_type": "code",
   "execution_count": 30,
   "id": "d257bbcb-95c1-425c-b097-e95c0dbc52cb",
   "metadata": {},
   "outputs": [],
   "source": [
    "from imblearn.combine import SMOTETomek, SMOTEENN\n",
    "\n",
    "# Resampling the minority class. The strategy can be changed as required.\n",
    "smt = SMOTEENN(random_state=42,sampling_strategy='minority' )\n",
    "# Fit the model to generate the data.\n",
    "X_res, y_res = smt.fit_resample(X, y)"
   ]
  },
  {
   "cell_type": "markdown",
   "id": "8b933af1-77bf-4dac-b654-644c0e156fae",
   "metadata": {},
   "source": [
    "## Train Test Split\n",
    "- The train-test split procedure is used to estimate the performance of machine learning algorithms when they are used to make predictions on data not used to train the model.\n",
    "\n",
    "- It is a fast and easy procedure to perform, the results of which allow you to compare the performance of machine learning algorithms."
   ]
  },
  {
   "cell_type": "code",
   "execution_count": 31,
   "id": "df2e5011-f928-4558-940b-599bb494f0c0",
   "metadata": {},
   "outputs": [
    {
     "data": {
      "text/plain": [
       "((13629, 24), (3408, 24))"
      ]
     },
     "execution_count": 31,
     "metadata": {},
     "output_type": "execute_result"
    }
   ],
   "source": [
    "from sklearn.model_selection import  train_test_split\n",
    "# separate dataset into train and test\n",
    "X_train, X_test, y_train, y_test = train_test_split(X_res,y_res,test_size=0.2,random_state=42)\n",
    "X_train.shape, X_test.shape"
   ]
  },
  {
   "cell_type": "code",
   "execution_count": 32,
   "id": "da83fa12-072c-417f-b781-2bcd618e1e89",
   "metadata": {},
   "outputs": [],
   "source": [
    "from sklearn.ensemble import RandomForestClassifier, AdaBoostClassifier\n",
    "from sklearn.linear_model import LogisticRegression\n",
    "from sklearn.tree import DecisionTreeClassifier\n",
    "from xgboost import XGBClassifier\n",
    "from sklearn.metrics import accuracy_score, classification_report,ConfusionMatrixDisplay,precision_score, recall_score, f1_score, roc_auc_score,roc_curve "
   ]
  },
  {
   "cell_type": "code",
   "execution_count": 33,
   "id": "0bf00ce7-09d1-45b8-81e1-6f97c52967dc",
   "metadata": {},
   "outputs": [],
   "source": [
    "def evaluate_clf(true, predicted):\n",
    "    acc = accuracy_score(true, predicted) # Calculate Accuracy\n",
    "    f1 = f1_score(true, predicted) # Calculate F1-score\n",
    "    precision = precision_score(true, predicted) # Calculate Precision\n",
    "    recall = recall_score(true, predicted)  # Calculate Recall\n",
    "    roc_auc = roc_auc_score(true, predicted) #Calculate Roc\n",
    "    return acc, f1 , precision, recall, roc_auc"
   ]
  },
  {
   "cell_type": "code",
   "execution_count": 34,
   "id": "cbcce07a-e3f6-42ad-949d-9a844c3811f0",
   "metadata": {},
   "outputs": [],
   "source": [
    "models = {\n",
    "    \"Random Forest\": RandomForestClassifier(),\n",
    "    \"Decision Tree\": DecisionTreeClassifier(),\n",
    "    \"Logistic Regression\": LogisticRegression(),\n",
    "    \"XGBClassifier\": XGBClassifier(),\n",
    "    \"AdaBoost Classifier\": AdaBoostClassifier()\n",
    "}"
   ]
  },
  {
   "cell_type": "code",
   "execution_count": 35,
   "id": "dae7180c-d252-46d5-bd5f-0ec5c58bf240",
   "metadata": {},
   "outputs": [],
   "source": [
    "# Create a function which can evaluate models and return a report \n",
    "def evaluate_models(X, y, models):\n",
    "    '''\n",
    "    This function takes in X and y and models dictionary as input\n",
    "    It splits the data into Train Test split\n",
    "    Iterates through the given model dictionary and evaluates the metrics\n",
    "    Returns: Dataframe which contains report of all models metrics with cost\n",
    "    '''\n",
    "    # separate dataset into train and test\n",
    "    X_train, X_test, y_train, y_test = train_test_split(X,y,test_size=0.2,random_state=42)\n",
    "    \n",
    "    models_list = []\n",
    "    accuracy_list = []\n",
    "    auc= []\n",
    "    \n",
    "    for i in range(len(list(models))):\n",
    "        model = list(models.values())[i]\n",
    "        model.fit(X_train, y_train) # Train model\n",
    "\n",
    "        # Make predictions\n",
    "        y_train_pred = model.predict(X_train)\n",
    "        y_test_pred = model.predict(X_test)\n",
    "\n",
    "        # Training set performance\n",
    "        model_train_accuracy, model_train_f1,model_train_precision,\\\n",
    "        model_train_recall,model_train_rocauc_score=evaluate_clf(y_train ,y_train_pred)\n",
    "\n",
    "\n",
    "        # Test set performance\n",
    "        model_test_accuracy,model_test_f1,model_test_precision,\\\n",
    "        model_test_recall,model_test_rocauc_score=evaluate_clf(y_test, y_test_pred)\n",
    "\n",
    "        print(list(models.keys())[i])\n",
    "        models_list.append(list(models.keys())[i])\n",
    "\n",
    "        print('Model performance for Training set')\n",
    "        print(\"- Accuracy: {:.4f}\".format(model_train_accuracy))\n",
    "        print('- F1 score: {:.4f}'.format(model_train_f1)) \n",
    "        print('- Precision: {:.4f}'.format(model_train_precision))\n",
    "        print('- Recall: {:.4f}'.format(model_train_recall))\n",
    "        print('- Roc Auc Score: {:.4f}'.format(model_train_rocauc_score))\n",
    "\n",
    "        print('----------------------------------')\n",
    "\n",
    "        print('Model performance for Test set')\n",
    "        print('- Accuracy: {:.4f}'.format(model_test_accuracy))\n",
    "        accuracy_list.append(model_test_accuracy)\n",
    "        print('- F1 score: {:.4f}'.format(model_test_f1))\n",
    "        print('- Precision: {:.4f}'.format(model_test_precision))\n",
    "        print('- Recall: {:.4f}'.format(model_test_recall))\n",
    "        print('- Roc Auc Score: {:.4f}'.format(model_test_rocauc_score))\n",
    "        auc.append(model_test_rocauc_score)\n",
    "        print('='*35)\n",
    "        print('\\n')\n",
    "        \n",
    "    report=pd.DataFrame(list(zip(models_list, accuracy_list)), columns=['Model Name', 'Accuracy']).sort_values(by=['Accuracy'], ascending=False)\n",
    "        \n",
    "    return report"
   ]
  },
  {
   "cell_type": "code",
   "execution_count": 36,
   "id": "27f7f791-cb50-4871-9a95-9532e6409aa9",
   "metadata": {},
   "outputs": [
    {
     "name": "stdout",
     "output_type": "stream",
     "text": [
      "Random Forest\n",
      "Model performance for Training set\n",
      "- Accuracy: 1.0000\n",
      "- F1 score: 1.0000\n",
      "- Precision: 1.0000\n",
      "- Recall: 1.0000\n",
      "- Roc Auc Score: 1.0000\n",
      "----------------------------------\n",
      "Model performance for Test set\n",
      "- Accuracy: 0.9489\n",
      "- F1 score: 0.9529\n",
      "- Precision: 0.9488\n",
      "- Recall: 0.9571\n",
      "- Roc Auc Score: 0.9482\n",
      "===================================\n",
      "\n",
      "\n",
      "Decision Tree\n",
      "Model performance for Training set\n",
      "- Accuracy: 1.0000\n",
      "- F1 score: 1.0000\n",
      "- Precision: 1.0000\n",
      "- Recall: 1.0000\n",
      "- Roc Auc Score: 1.0000\n",
      "----------------------------------\n",
      "Model performance for Test set\n",
      "- Accuracy: 0.9246\n",
      "- F1 score: 0.9307\n",
      "- Precision: 0.9235\n",
      "- Recall: 0.9380\n",
      "- Roc Auc Score: 0.9234\n",
      "===================================\n",
      "\n",
      "\n",
      "Logistic Regression\n",
      "Model performance for Training set\n",
      "- Accuracy: 0.7382\n",
      "- F1 score: 0.7523\n",
      "- Precision: 0.7677\n",
      "- Recall: 0.7374\n",
      "- Roc Auc Score: 0.7383\n",
      "----------------------------------\n",
      "Model performance for Test set\n",
      "- Accuracy: 0.7256\n",
      "- F1 score: 0.7411\n",
      "- Precision: 0.7555\n",
      "- Recall: 0.7272\n",
      "- Roc Auc Score: 0.7255\n",
      "===================================\n",
      "\n",
      "\n",
      "XGBClassifier\n",
      "Model performance for Training set\n",
      "- Accuracy: 0.9794\n",
      "- F1 score: 0.9809\n",
      "- Precision: 0.9802\n",
      "- Recall: 0.9816\n",
      "- Roc Auc Score: 0.9792\n",
      "----------------------------------\n",
      "Model performance for Test set\n",
      "- Accuracy: 0.9352\n",
      "- F1 score: 0.9397\n",
      "- Precision: 0.9431\n",
      "- Recall: 0.9364\n",
      "- Roc Auc Score: 0.9350\n",
      "===================================\n",
      "\n",
      "\n",
      "AdaBoost Classifier\n",
      "Model performance for Training set\n",
      "- Accuracy: 0.8572\n",
      "- F1 score: 0.8669\n",
      "- Precision: 0.8713\n",
      "- Recall: 0.8625\n",
      "- Roc Auc Score: 0.8568\n",
      "----------------------------------\n",
      "Model performance for Test set\n",
      "- Accuracy: 0.8460\n",
      "- F1 score: 0.8568\n",
      "- Precision: 0.8599\n",
      "- Recall: 0.8538\n",
      "- Roc Auc Score: 0.8453\n",
      "===================================\n",
      "\n",
      "\n"
     ]
    }
   ],
   "source": [
    "base_model_report =evaluate_models(X=X_res, y=y_res, models=models)"
   ]
  },
  {
   "cell_type": "markdown",
   "id": "c9827ff4-45c9-4272-8879-3f13813ba3e9",
   "metadata": {},
   "source": [
    "### Results of All Models"
   ]
  },
  {
   "cell_type": "code",
   "execution_count": 37,
   "id": "6b67521f-b83c-4a74-bb01-d03f3d88375c",
   "metadata": {},
   "outputs": [
    {
     "data": {
      "text/html": [
       "<div>\n",
       "<style scoped>\n",
       "    .dataframe tbody tr th:only-of-type {\n",
       "        vertical-align: middle;\n",
       "    }\n",
       "\n",
       "    .dataframe tbody tr th {\n",
       "        vertical-align: top;\n",
       "    }\n",
       "\n",
       "    .dataframe thead th {\n",
       "        text-align: right;\n",
       "    }\n",
       "</style>\n",
       "<table border=\"1\" class=\"dataframe\">\n",
       "  <thead>\n",
       "    <tr style=\"text-align: right;\">\n",
       "      <th></th>\n",
       "      <th>Model Name</th>\n",
       "      <th>Accuracy</th>\n",
       "    </tr>\n",
       "  </thead>\n",
       "  <tbody>\n",
       "    <tr>\n",
       "      <th>0</th>\n",
       "      <td>Random Forest</td>\n",
       "      <td>0.948944</td>\n",
       "    </tr>\n",
       "    <tr>\n",
       "      <th>3</th>\n",
       "      <td>XGBClassifier</td>\n",
       "      <td>0.935153</td>\n",
       "    </tr>\n",
       "    <tr>\n",
       "      <th>1</th>\n",
       "      <td>Decision Tree</td>\n",
       "      <td>0.924589</td>\n",
       "    </tr>\n",
       "    <tr>\n",
       "      <th>4</th>\n",
       "      <td>AdaBoost Classifier</td>\n",
       "      <td>0.845951</td>\n",
       "    </tr>\n",
       "    <tr>\n",
       "      <th>2</th>\n",
       "      <td>Logistic Regression</td>\n",
       "      <td>0.725646</td>\n",
       "    </tr>\n",
       "  </tbody>\n",
       "</table>\n",
       "</div>"
      ],
      "text/plain": [
       "            Model Name  Accuracy\n",
       "0        Random Forest  0.948944\n",
       "3        XGBClassifier  0.935153\n",
       "1        Decision Tree  0.924589\n",
       "4  AdaBoost Classifier  0.845951\n",
       "2  Logistic Regression  0.725646"
      ]
     },
     "execution_count": 37,
     "metadata": {},
     "output_type": "execute_result"
    }
   ],
   "source": [
    "base_model_report"
   ]
  },
  {
   "cell_type": "markdown",
   "id": "c8291be6-9c9d-47d7-9d96-8ab3cb24aec5",
   "metadata": {},
   "source": [
    "# Hyperparameter Tunning"
   ]
  },
  {
   "cell_type": "code",
   "execution_count": 38,
   "id": "116dd76a-d0d7-465e-adfd-c2fe95772feb",
   "metadata": {},
   "outputs": [],
   "source": [
    "#Initialize few parameter for Hyperparamter tuning\n",
    "xgboost_params = {\n",
    "    'max_depth':range(3,12,2),\n",
    "    'min_child_weight':range(1,6,2)\n",
    "}\n",
    "\n",
    "rf_params = {\n",
    "    \"max_depth\": [10, 12, None, 15, 20],\n",
    "    \"max_features\": ['sqrt', 'log2', None],\n",
    "    \"n_estimators\": [10, 50, 100, 150]\n",
    "}\n"
   ]
  },
  {
   "cell_type": "code",
   "execution_count": 39,
   "id": "a688cf6e-6912-4145-97d1-2af4e59d9883",
   "metadata": {},
   "outputs": [],
   "source": [
    "# Models list for Hyperparameter tuning\n",
    "randomcv_models = [\n",
    "    ('XGBoost', XGBClassifier(), xgboost_params),\n",
    "    (\"RF\", RandomForestClassifier(), rf_params)\n",
    "]"
   ]
  },
  {
   "cell_type": "code",
   "execution_count": 40,
   "id": "59be1e8d-c942-4394-b4d1-34d799853444",
   "metadata": {},
   "outputs": [
    {
     "name": "stdout",
     "output_type": "stream",
     "text": [
      "Fitting 3 folds for each of 15 candidates, totalling 45 fits\n",
      "Fitting 3 folds for each of 60 candidates, totalling 180 fits\n",
      "---------------- Best Params for XGBoost -------------------\n",
      "{'min_child_weight': 1, 'max_depth': 11}\n",
      "---------------- Best Params for RF -------------------\n",
      "{'n_estimators': 150, 'max_features': 'sqrt', 'max_depth': None}\n"
     ]
    }
   ],
   "source": [
    "from sklearn.model_selection import RandomizedSearchCV\n",
    "\n",
    "model_param = {}\n",
    "for name, model, params in randomcv_models:\n",
    "    random = RandomizedSearchCV(estimator=model,\n",
    "                                   param_distributions=params,\n",
    "                                   n_iter=100,\n",
    "                                   cv=3,\n",
    "                                   verbose=2, \n",
    "                                   n_jobs=-1)\n",
    "    random.fit(X_res, y_res)\n",
    "    model_param[name] = random.best_params_\n",
    " \n",
    "for model_name in model_param:\n",
    "    print(f\"---------------- Best Params for {model_name} -------------------\")\n",
    "    print(model_param[model_name])"
   ]
  },
  {
   "cell_type": "code",
   "execution_count": 41,
   "id": "efd9474f-6c8a-4222-8759-04c7cb11b3c3",
   "metadata": {},
   "outputs": [
    {
     "data": {
      "text/plain": [
       "{'XGBoost': {'min_child_weight': 1, 'max_depth': 11},\n",
       " 'RF': {'n_estimators': 150, 'max_features': 'sqrt', 'max_depth': None}}"
      ]
     },
     "execution_count": 41,
     "metadata": {},
     "output_type": "execute_result"
    }
   ],
   "source": [
    "model_param"
   ]
  },
  {
   "cell_type": "markdown",
   "id": "1db8cbb2-6bd6-4e0c-9efd-dc3faa49c437",
   "metadata": {},
   "source": [
    "# Re-training the Model with best Parameters "
   ]
  },
  {
   "cell_type": "code",
   "execution_count": 42,
   "id": "a20cfb83-bc7e-43a1-b658-096a90736e63",
   "metadata": {},
   "outputs": [
    {
     "name": "stdout",
     "output_type": "stream",
     "text": [
      "Random Forest Classifier\n",
      "Model performance for Training set\n",
      "- Accuracy: 1.0000\n",
      "- F1 score: 1.0000\n",
      "- Precision: 1.0000\n",
      "- Recall: 1.0000\n",
      "- Roc Auc Score: 1.0000\n",
      "----------------------------------\n",
      "Model performance for Test set\n",
      "- Accuracy: 0.9531\n",
      "- F1 score: 0.9568\n",
      "- Precision: 0.9511\n",
      "- Recall: 0.9625\n",
      "- Roc Auc Score: 0.9522\n",
      "===================================\n",
      "\n",
      "\n",
      "XGBClassifier\n",
      "Model performance for Training set\n",
      "- Accuracy: 1.0000\n",
      "- F1 score: 1.0000\n",
      "- Precision: 1.0000\n",
      "- Recall: 1.0000\n",
      "- Roc Auc Score: 1.0000\n",
      "----------------------------------\n",
      "Model performance for Test set\n",
      "- Accuracy: 0.9454\n",
      "- F1 score: 0.9498\n",
      "- Precision: 0.9432\n",
      "- Recall: 0.9565\n",
      "- Roc Auc Score: 0.9445\n",
      "===================================\n",
      "\n",
      "\n"
     ]
    }
   ],
   "source": [
    "from sklearn.metrics import roc_auc_score,roc_curve\n",
    "best_models = {\n",
    "    \"Random Forest Classifier\": RandomForestClassifier(**model_param['RF']),\n",
    "    \"XGBClassifier\": XGBClassifier(**model_param['XGBoost'],n_jobs=-1),\n",
    "}\n",
    "tuned_report =evaluate_models(X=X_res, y=y_res, models=best_models)"
   ]
  },
  {
   "cell_type": "code",
   "execution_count": 43,
   "id": "03e786fa-b3c1-447a-841c-677d49a6fdb8",
   "metadata": {},
   "outputs": [
    {
     "data": {
      "text/html": [
       "<div>\n",
       "<style scoped>\n",
       "    .dataframe tbody tr th:only-of-type {\n",
       "        vertical-align: middle;\n",
       "    }\n",
       "\n",
       "    .dataframe tbody tr th {\n",
       "        vertical-align: top;\n",
       "    }\n",
       "\n",
       "    .dataframe thead th {\n",
       "        text-align: right;\n",
       "    }\n",
       "</style>\n",
       "<table border=\"1\" class=\"dataframe\">\n",
       "  <thead>\n",
       "    <tr style=\"text-align: right;\">\n",
       "      <th></th>\n",
       "      <th>Model Name</th>\n",
       "      <th>Accuracy</th>\n",
       "    </tr>\n",
       "  </thead>\n",
       "  <tbody>\n",
       "    <tr>\n",
       "      <th>0</th>\n",
       "      <td>Random Forest Classifier</td>\n",
       "      <td>0.953052</td>\n",
       "    </tr>\n",
       "    <tr>\n",
       "      <th>1</th>\n",
       "      <td>XGBClassifier</td>\n",
       "      <td>0.945423</td>\n",
       "    </tr>\n",
       "  </tbody>\n",
       "</table>\n",
       "</div>"
      ],
      "text/plain": [
       "                 Model Name  Accuracy\n",
       "0  Random Forest Classifier  0.953052\n",
       "1             XGBClassifier  0.945423"
      ]
     },
     "execution_count": 43,
     "metadata": {},
     "output_type": "execute_result"
    }
   ],
   "source": [
    "tuned_report"
   ]
  },
  {
   "cell_type": "code",
   "execution_count": 44,
   "id": "938da026-ce3c-4c90-81bf-a616572f071b",
   "metadata": {},
   "outputs": [
    {
     "name": "stdout",
     "output_type": "stream",
     "text": [
      "FINAL MODEL 'Random Forest'\n",
      "Accuracy Score value: 0.9531\n",
      "              precision    recall  f1-score   support\n",
      "\n",
      "           0       0.96      0.94      0.95      1568\n",
      "           1       0.95      0.97      0.96      1840\n",
      "\n",
      "    accuracy                           0.95      3408\n",
      "   macro avg       0.95      0.95      0.95      3408\n",
      "weighted avg       0.95      0.95      0.95      3408\n",
      "\n"
     ]
    }
   ],
   "source": [
    "best_model = RandomForestClassifier(**model_param['RF'])\n",
    "best_model = best_model.fit(X_train,y_train)\n",
    "y_pred = best_model.predict(X_test)\n",
    "score = accuracy_score(y_test,y_pred)\n",
    "cr = classification_report(y_test,y_pred)\n",
    "\n",
    "print(\"FINAL MODEL 'Random Forest'\")\n",
    "print (\"Accuracy Score value: {:.4f}\".format(score))\n",
    "print (cr)"
   ]
  },
  {
   "cell_type": "code",
   "execution_count": 45,
   "id": "41603ea9-6340-4249-ad56-0352da39cada",
   "metadata": {},
   "outputs": [
    {
     "data": {
      "text/plain": [
       "<sklearn.metrics._plot.confusion_matrix.ConfusionMatrixDisplay at 0x124c4cab1a0>"
      ]
     },
     "execution_count": 45,
     "metadata": {},
     "output_type": "execute_result"
    },
    {
     "data": {
      "image/png": "[encoded data removed]",
      "text/plain": [
       "<Figure size 640x480 with 2 Axes>"
      ]
     },
     "metadata": {},
     "output_type": "display_data"
    }
   ],
   "source": [
    "from sklearn.metrics import ConfusionMatrixDisplay\n",
    "ConfusionMatrixDisplay.from_estimator(best_model, X_test, y_test)"
   ]
  },
  {
   "cell_type": "markdown",
   "id": "f1db95f6-65f6-4419-ba6e-81ce4d846a45",
   "metadata": {},
   "source": [
    "# Hyperparameter tuning using Optuna"
   ]
  },
  {
   "cell_type": "code",
   "execution_count": 47,
   "id": "5bf3af11-beab-4525-a897-50ed45ed5bef",
   "metadata": {},
   "outputs": [],
   "source": [
    "import optuna\n",
    "from sklearn.metrics import make_scorer\n",
    "\n",
    "# Define the objective function to optimize\n",
    "def objective(trial):\n",
    "    # RandomForest hyperparameters\n",
    "    model_name = trial.suggest_categorical('model', ['RandomForest', 'XGBoost'])\n",
    "    \n",
    "    if model_name == 'RandomForest':\n",
    "        # Suggest hyperparameters for RandomForest\n",
    "        max_depth = trial.suggest_int('max_depth', 10, 20)\n",
    "        max_features = trial.suggest_categorical('max_features', ['sqrt', 'log2', None])\n",
    "        n_estimators = trial.suggest_int('n_estimators', 10, 150, step=10)\n",
    "        rf = RandomForestClassifier(max_depth=max_depth, max_features=max_features, n_estimators=n_estimators, random_state=42)\n",
    "        \n",
    "        # Evaluate RandomForest\n",
    "        score = cross_val_score(rf, X_res, y_res, scoring='accuracy', cv=3, n_jobs=-1).mean()\n",
    "\n",
    "    elif model_name == 'XGBoost':\n",
    "        # Suggest hyperparameters for XGBoost\n",
    "        max_depth = trial.suggest_int('max_depth', 3, 12)\n",
    "        min_child_weight = trial.suggest_int('min_child_weight', 1, 6, step=2)\n",
    "        learning_rate = trial.suggest_loguniform('learning_rate', 1e-5, 0.1)\n",
    "        n_estimators = trial.suggest_int('n_estimators', 50, 300, step=50)\n",
    "        \n",
    "        xgb = XGBClassifier(max_depth=max_depth, min_child_weight=min_child_weight,\n",
    "                            learning_rate=learning_rate, n_estimators=n_estimators, random_state=42, n_jobs=-1)\n",
    "        \n",
    "        # Evaluate XGBoost\n",
    "        score = cross_val_score(xgb, X_res, y_res, scoring='accuracy', cv=3, n_jobs=-1).mean()\n",
    "\n",
    "    return score"
   ]
  },
  {
   "cell_type": "code",
   "execution_count": null,
   "id": "ceab5567-d90d-451b-af70-030b16ffb0de",
   "metadata": {},
   "outputs": [],
   "source": []
  },
  {
   "cell_type": "code",
   "execution_count": 48,
   "id": "f28abd93-3d72-4f55-becc-7a029e2069dc",
   "metadata": {},
   "outputs": [
    {
     "name": "stderr",
     "output_type": "stream",
     "text": [
      "[I 2025-01-25 20:35:42,984] A new study created in memory with name: no-name-f47a9469-6fb9-4527-b0bb-9f3ce9e0fad2\n",
      "[I 2025-01-25 20:35:45,018] Trial 2 finished with value: 0.5391794329987674 and parameters: {'model': 'XGBoost', 'max_depth': 7, 'min_child_weight': 1, 'learning_rate': 0.00010170811598270133, 'n_estimators': 50}. Best is trial 2 with value: 0.5391794329987674.\n",
      "[I 2025-01-25 20:35:46,861] Trial 1 finished with value: 0.8915301989786935 and parameters: {'model': 'XGBoost', 'max_depth': 10, 'min_child_weight': 1, 'learning_rate': 0.009791846627344742, 'n_estimators': 50}. Best is trial 1 with value: 0.8915301989786935.\n",
      "[I 2025-01-25 20:35:49,524] Trial 4 finished with value: 0.8824910488935845 and parameters: {'model': 'XGBoost', 'max_depth': 8, 'min_child_weight': 5, 'learning_rate': 0.029429262323689552, 'n_estimators': 50}. Best is trial 1 with value: 0.8915301989786935.\n",
      "[I 2025-01-25 20:35:49,752] Trial 0 finished with value: 0.9396020426131361 and parameters: {'model': 'RandomForest', 'max_depth': 20, 'max_features': 'log2', 'n_estimators': 90}. Best is trial 0 with value: 0.9396020426131361.\n",
      "[I 2025-01-25 20:35:51,466] Trial 5 finished with value: 0.7954452074895815 and parameters: {'model': 'XGBoost', 'max_depth': 3, 'min_child_weight': 1, 'learning_rate': 0.0027090242868020864, 'n_estimators': 100}. Best is trial 0 with value: 0.9396020426131361.\n",
      "[I 2025-01-25 20:35:52,318] Trial 7 finished with value: 0.9177672125374184 and parameters: {'model': 'RandomForest', 'max_depth': 17, 'max_features': 'log2', 'n_estimators': 10}. Best is trial 0 with value: 0.9396020426131361.\n",
      "[I 2025-01-25 20:35:52,347] Trial 6 finished with value: 0.5391794329987674 and parameters: {'model': 'XGBoost', 'max_depth': 11, 'min_child_weight': 3, 'learning_rate': 6.682919273884162e-05, 'n_estimators': 150}. Best is trial 0 with value: 0.9396020426131361.\n",
      "[I 2025-01-25 20:35:52,954] Trial 3 finished with value: 0.9184715618946998 and parameters: {'model': 'RandomForest', 'max_depth': 14, 'max_features': 'log2', 'n_estimators': 60}. Best is trial 0 with value: 0.9396020426131361.\n",
      "[I 2025-01-25 20:36:03,629] Trial 9 finished with value: 0.9278628866584492 and parameters: {'model': 'RandomForest', 'max_depth': 15, 'max_features': None, 'n_estimators': 40}. Best is trial 0 with value: 0.9396020426131361.\n",
      "[I 2025-01-25 20:36:03,845] Trial 11 finished with value: 0.5391794329987674 and parameters: {'model': 'XGBoost', 'max_depth': 4, 'min_child_weight': 3, 'learning_rate': 3.5292275856908354e-05, 'n_estimators': 150}. Best is trial 0 with value: 0.9396020426131361.\n",
      "[I 2025-01-25 20:36:04,119] Trial 10 finished with value: 0.901743264659271 and parameters: {'model': 'RandomForest', 'max_depth': 11, 'max_features': 'log2', 'n_estimators': 110}. Best is trial 0 with value: 0.9396020426131361.\n",
      "[I 2025-01-25 20:36:07,456] Trial 12 finished with value: 0.8905910665023185 and parameters: {'model': 'RandomForest', 'max_depth': 10, 'max_features': 'log2', 'n_estimators': 80}. Best is trial 0 with value: 0.9396020426131361.\n",
      "[I 2025-01-25 20:36:12,294] Trial 13 finished with value: 0.9273933204202618 and parameters: {'model': 'RandomForest', 'max_depth': 16, 'max_features': 'log2', 'n_estimators': 90}. Best is trial 0 with value: 0.9396020426131361.\n",
      "[I 2025-01-25 20:36:15,336] Trial 14 finished with value: 0.8804366966015144 and parameters: {'model': 'XGBoost', 'max_depth': 7, 'min_child_weight': 1, 'learning_rate': 0.007259995523337801, 'n_estimators': 250}. Best is trial 0 with value: 0.9396020426131361.\n",
      "[I 2025-01-25 20:36:16,532] Trial 15 finished with value: 0.5391794329987674 and parameters: {'model': 'XGBoost', 'max_depth': 8, 'min_child_weight': 1, 'learning_rate': 1.2138406261729254e-05, 'n_estimators': 100}. Best is trial 0 with value: 0.9396020426131361.\n",
      "[I 2025-01-25 20:36:16,896] Trial 16 finished with value: 0.5391794329987674 and parameters: {'model': 'XGBoost', 'max_depth': 10, 'min_child_weight': 5, 'learning_rate': 0.0003951741332314029, 'n_estimators': 50}. Best is trial 0 with value: 0.9396020426131361.\n",
      "[I 2025-01-25 20:36:22,628] Trial 17 finished with value: 0.9396020426131361 and parameters: {'model': 'RandomForest', 'max_depth': 20, 'max_features': 'sqrt', 'n_estimators': 100}. Best is trial 0 with value: 0.9396020426131361.\n",
      "[I 2025-01-25 20:36:26,438] Trial 8 finished with value: 0.9312085461055349 and parameters: {'model': 'RandomForest', 'max_depth': 16, 'max_features': None, 'n_estimators': 130}. Best is trial 0 with value: 0.9396020426131361.\n",
      "[I 2025-01-25 20:36:26,676] Trial 19 finished with value: 0.9290368022539179 and parameters: {'model': 'RandomForest', 'max_depth': 20, 'max_features': None, 'n_estimators': 10}. Best is trial 0 with value: 0.9396020426131361.\n",
      "[I 2025-01-25 20:36:28,503] Trial 20 finished with value: 0.9290368022539179 and parameters: {'model': 'RandomForest', 'max_depth': 20, 'max_features': None, 'n_estimators': 10}. Best is trial 0 with value: 0.9396020426131361.\n",
      "[I 2025-01-25 20:36:30,118] Trial 21 finished with value: 0.9290368022539179 and parameters: {'model': 'RandomForest', 'max_depth': 20, 'max_features': None, 'n_estimators': 10}. Best is trial 0 with value: 0.9396020426131361.\n",
      "[I 2025-01-25 20:36:31,439] Trial 22 finished with value: 0.9290368022539179 and parameters: {'model': 'RandomForest', 'max_depth': 20, 'max_features': None, 'n_estimators': 10}. Best is trial 0 with value: 0.9396020426131361.\n",
      "[I 2025-01-25 20:36:32,897] Trial 23 finished with value: 0.9290368022539179 and parameters: {'model': 'RandomForest', 'max_depth': 20, 'max_features': None, 'n_estimators': 10}. Best is trial 0 with value: 0.9396020426131361.\n",
      "[I 2025-01-25 20:36:40,217] Trial 24 finished with value: 0.9403650877501907 and parameters: {'model': 'RandomForest', 'max_depth': 20, 'max_features': 'sqrt', 'n_estimators': 130}. Best is trial 24 with value: 0.9403650877501907.\n",
      "[I 2025-01-25 20:36:42,546] Trial 18 finished with value: 0.9373716029817456 and parameters: {'model': 'RandomForest', 'max_depth': 20, 'max_features': None, 'n_estimators': 90}. Best is trial 24 with value: 0.9403650877501907.\n",
      "[I 2025-01-25 20:36:44,539] Trial 26 finished with value: 0.9379585607794799 and parameters: {'model': 'RandomForest', 'max_depth': 20, 'max_features': 'sqrt', 'n_estimators': 70}. Best is trial 24 with value: 0.9403650877501907.\n",
      "[I 2025-01-25 20:36:46,288] Trial 25 finished with value: 0.939719434172683 and parameters: {'model': 'RandomForest', 'max_depth': 20, 'max_features': 'sqrt', 'n_estimators': 120}. Best is trial 24 with value: 0.9403650877501907.\n",
      "[I 2025-01-25 20:36:48,070] Trial 27 finished with value: 0.9355520338087692 and parameters: {'model': 'RandomForest', 'max_depth': 18, 'max_features': 'sqrt', 'n_estimators': 120}. Best is trial 24 with value: 0.9403650877501907.\n",
      "[I 2025-01-25 20:36:51,266] Trial 28 finished with value: 0.9357868169278629 and parameters: {'model': 'RandomForest', 'max_depth': 18, 'max_features': 'sqrt', 'n_estimators': 130}. Best is trial 24 with value: 0.9403650877501907.\n",
      "[I 2025-01-25 20:36:54,651] Trial 29 finished with value: 0.9357868169278629 and parameters: {'model': 'RandomForest', 'max_depth': 18, 'max_features': 'sqrt', 'n_estimators': 130}. Best is trial 24 with value: 0.9403650877501907.\n",
      "[I 2025-01-25 20:36:58,633] Trial 30 finished with value: 0.9357868169278629 and parameters: {'model': 'RandomForest', 'max_depth': 18, 'max_features': 'sqrt', 'n_estimators': 130}. Best is trial 24 with value: 0.9403650877501907.\n",
      "[I 2025-01-25 20:36:59,996] Trial 31 finished with value: 0.9355520338087692 and parameters: {'model': 'RandomForest', 'max_depth': 18, 'max_features': 'sqrt', 'n_estimators': 120}. Best is trial 24 with value: 0.9403650877501907.\n",
      "[I 2025-01-25 20:37:02,294] Trial 32 finished with value: 0.9355520338087692 and parameters: {'model': 'RandomForest', 'max_depth': 18, 'max_features': 'sqrt', 'n_estimators': 120}. Best is trial 24 with value: 0.9403650877501907.\n",
      "[I 2025-01-25 20:37:05,479] Trial 33 finished with value: 0.9355520338087692 and parameters: {'model': 'RandomForest', 'max_depth': 18, 'max_features': 'sqrt', 'n_estimators': 120}. Best is trial 24 with value: 0.9403650877501907.\n",
      "[I 2025-01-25 20:37:08,517] Trial 34 finished with value: 0.9355520338087692 and parameters: {'model': 'RandomForest', 'max_depth': 18, 'max_features': 'sqrt', 'n_estimators': 120}. Best is trial 24 with value: 0.9403650877501907.\n",
      "[I 2025-01-25 20:37:12,449] Trial 35 finished with value: 0.9361389916065034 and parameters: {'model': 'RandomForest', 'max_depth': 18, 'max_features': 'sqrt', 'n_estimators': 140}. Best is trial 24 with value: 0.9403650877501907.\n",
      "[I 2025-01-25 20:37:14,805] Trial 36 finished with value: 0.9359042084874097 and parameters: {'model': 'RandomForest', 'max_depth': 18, 'max_features': 'sqrt', 'n_estimators': 150}. Best is trial 24 with value: 0.9403650877501907.\n",
      "[I 2025-01-25 20:37:19,596] Trial 37 finished with value: 0.938780301696308 and parameters: {'model': 'RandomForest', 'max_depth': 19, 'max_features': 'sqrt', 'n_estimators': 140}. Best is trial 24 with value: 0.9403650877501907.\n",
      "[I 2025-01-25 20:37:23,119] Trial 38 finished with value: 0.9384281270176674 and parameters: {'model': 'RandomForest', 'max_depth': 19, 'max_features': 'sqrt', 'n_estimators': 150}. Best is trial 24 with value: 0.9403650877501907.\n",
      "[I 2025-01-25 20:37:26,138] Trial 39 finished with value: 0.9384281270176674 and parameters: {'model': 'RandomForest', 'max_depth': 19, 'max_features': 'sqrt', 'n_estimators': 150}. Best is trial 24 with value: 0.9403650877501907.\n",
      "[I 2025-01-25 20:37:29,870] Trial 41 finished with value: 0.9381933438985737 and parameters: {'model': 'RandomForest', 'max_depth': 19, 'max_features': 'sqrt', 'n_estimators': 100}. Best is trial 24 with value: 0.9403650877501907.\n",
      "[I 2025-01-25 20:37:30,481] Trial 40 finished with value: 0.9384281270176674 and parameters: {'model': 'RandomForest', 'max_depth': 19, 'max_features': 'sqrt', 'n_estimators': 150}. Best is trial 24 with value: 0.9403650877501907.\n",
      "[I 2025-01-25 20:37:32,647] Trial 42 finished with value: 0.9381933438985737 and parameters: {'model': 'RandomForest', 'max_depth': 19, 'max_features': 'sqrt', 'n_estimators': 100}. Best is trial 24 with value: 0.9403650877501907.\n",
      "[I 2025-01-25 20:37:36,418] Trial 43 finished with value: 0.9381933438985737 and parameters: {'model': 'RandomForest', 'max_depth': 19, 'max_features': 'sqrt', 'n_estimators': 100}. Best is trial 24 with value: 0.9403650877501907.\n",
      "[I 2025-01-25 20:37:38,027] Trial 44 finished with value: 0.9381933438985737 and parameters: {'model': 'RandomForest', 'max_depth': 19, 'max_features': 'log2', 'n_estimators': 100}. Best is trial 24 with value: 0.9403650877501907.\n",
      "[I 2025-01-25 20:37:42,130] Trial 46 finished with value: 0.9241650525327229 and parameters: {'model': 'XGBoost', 'max_depth': 11, 'min_child_weight': 5, 'learning_rate': 0.07697110203439779, 'n_estimators': 200}. Best is trial 24 with value: 0.9403650877501907.\n",
      "[I 2025-01-25 20:37:42,359] Trial 45 finished with value: 0.9381933438985737 and parameters: {'model': 'RandomForest', 'max_depth': 19, 'max_features': 'log2', 'n_estimators': 100}. Best is trial 24 with value: 0.9403650877501907.\n",
      "[I 2025-01-25 20:37:45,746] Trial 47 finished with value: 0.7774256030991372 and parameters: {'model': 'XGBoost', 'max_depth': 11, 'min_child_weight': 5, 'learning_rate': 0.00042624371569196585, 'n_estimators': 200}. Best is trial 24 with value: 0.9403650877501907.\n",
      "[I 2025-01-25 20:37:48,250] Trial 48 finished with value: 0.9389563890356283 and parameters: {'model': 'RandomForest', 'max_depth': 19, 'max_features': 'log2', 'n_estimators': 110}. Best is trial 24 with value: 0.9403650877501907.\n",
      "[I 2025-01-25 20:37:51,069] Trial 51 finished with value: 0.8881258437518342 and parameters: {'model': 'XGBoost', 'max_depth': 3, 'min_child_weight': 5, 'learning_rate': 0.08809527806221958, 'n_estimators': 200}. Best is trial 24 with value: 0.9403650877501907.\n",
      "[I 2025-01-25 20:37:51,915] Trial 49 finished with value: 0.9389563890356283 and parameters: {'model': 'RandomForest', 'max_depth': 19, 'max_features': 'log2', 'n_estimators': 110}. Best is trial 24 with value: 0.9403650877501907.\n",
      "[I 2025-01-25 20:37:52,171] Trial 50 finished with value: 0.9224041791395199 and parameters: {'model': 'XGBoost', 'max_depth': 11, 'min_child_weight': 5, 'learning_rate': 0.065881321883706, 'n_estimators': 200}. Best is trial 24 with value: 0.9403650877501907.\n",
      "[I 2025-01-25 20:37:52,263] Trial 52 finished with value: 0.9024476140165522 and parameters: {'model': 'XGBoost', 'max_depth': 5, 'min_child_weight': 5, 'learning_rate': 0.09378709830384384, 'n_estimators': 200}. Best is trial 24 with value: 0.9403650877501907.\n",
      "[I 2025-01-25 20:37:57,936] Trial 53 finished with value: 0.9185889534542467 and parameters: {'model': 'RandomForest', 'max_depth': 14, 'max_features': 'log2', 'n_estimators': 110}. Best is trial 24 with value: 0.9403650877501907.\n",
      "[I 2025-01-25 20:37:59,175] Trial 54 finished with value: 0.8497974995597817 and parameters: {'model': 'XGBoost', 'max_depth': 9, 'min_child_weight': 3, 'learning_rate': 0.0006582453139860127, 'n_estimators': 200}. Best is trial 24 with value: 0.9403650877501907.\n",
      "[I 2025-01-25 20:38:03,983] Trial 57 finished with value: 0.9123085050184891 and parameters: {'model': 'RandomForest', 'max_depth': 13, 'max_features': 'log2', 'n_estimators': 80}. Best is trial 24 with value: 0.9403650877501907.\n",
      "[I 2025-01-25 20:38:04,053] Trial 56 finished with value: 0.9121324176791689 and parameters: {'model': 'RandomForest', 'max_depth': 13, 'max_features': 'log2', 'n_estimators': 110}. Best is trial 24 with value: 0.9403650877501907.\n",
      "[I 2025-01-25 20:38:04,506] Trial 55 finished with value: 0.9333802899571522 and parameters: {'model': 'RandomForest', 'max_depth': 17, 'max_features': 'log2', 'n_estimators': 110}. Best is trial 24 with value: 0.9403650877501907.\n",
      "[I 2025-01-25 20:38:10,528] Trial 58 finished with value: 0.9121324176791689 and parameters: {'model': 'RandomForest', 'max_depth': 13, 'max_features': 'log2', 'n_estimators': 110}. Best is trial 24 with value: 0.9403650877501907.\n",
      "[I 2025-01-25 20:38:11,508] Trial 59 finished with value: 0.9121324176791689 and parameters: {'model': 'RandomForest', 'max_depth': 13, 'max_features': 'log2', 'n_estimators': 110}. Best is trial 24 with value: 0.9403650877501907.\n",
      "[I 2025-01-25 20:38:13,832] Trial 60 finished with value: 0.9333802899571522 and parameters: {'model': 'RandomForest', 'max_depth': 17, 'max_features': 'log2', 'n_estimators': 110}. Best is trial 24 with value: 0.9403650877501907.\n",
      "[I 2025-01-25 20:38:17,475] Trial 61 finished with value: 0.9339672477548864 and parameters: {'model': 'RandomForest', 'max_depth': 17, 'max_features': 'log2', 'n_estimators': 90}. Best is trial 24 with value: 0.9403650877501907.\n",
      "[I 2025-01-25 20:38:18,649] Trial 62 finished with value: 0.9339672477548864 and parameters: {'model': 'RandomForest', 'max_depth': 17, 'max_features': 'log2', 'n_estimators': 90}. Best is trial 24 with value: 0.9403650877501907.\n",
      "[I 2025-01-25 20:38:22,951] Trial 63 finished with value: 0.9391324763749486 and parameters: {'model': 'RandomForest', 'max_depth': 20, 'max_features': 'log2', 'n_estimators': 110}. Best is trial 24 with value: 0.9403650877501907.\n",
      "[I 2025-01-25 20:38:23,176] Trial 64 finished with value: 0.9339672477548864 and parameters: {'model': 'RandomForest', 'max_depth': 17, 'max_features': 'log2', 'n_estimators': 90}. Best is trial 24 with value: 0.9403650877501907.\n",
      "[I 2025-01-25 20:38:26,266] Trial 65 finished with value: 0.9396020426131361 and parameters: {'model': 'RandomForest', 'max_depth': 20, 'max_features': 'log2', 'n_estimators': 90}. Best is trial 24 with value: 0.9403650877501907.\n",
      "[I 2025-01-25 20:38:28,671] Trial 66 finished with value: 0.9396020426131361 and parameters: {'model': 'RandomForest', 'max_depth': 20, 'max_features': 'log2', 'n_estimators': 90}. Best is trial 24 with value: 0.9403650877501907.\n",
      "[I 2025-01-25 20:38:30,764] Trial 67 finished with value: 0.9396020426131361 and parameters: {'model': 'RandomForest', 'max_depth': 20, 'max_features': 'log2', 'n_estimators': 90}. Best is trial 24 with value: 0.9403650877501907.\n",
      "[I 2025-01-25 20:38:33,234] Trial 68 finished with value: 0.9396020426131361 and parameters: {'model': 'RandomForest', 'max_depth': 20, 'max_features': 'log2', 'n_estimators': 90}. Best is trial 24 with value: 0.9403650877501907.\n",
      "[I 2025-01-25 20:38:34,347] Trial 69 finished with value: 0.938780301696308 and parameters: {'model': 'RandomForest', 'max_depth': 20, 'max_features': 'log2', 'n_estimators': 80}. Best is trial 24 with value: 0.9403650877501907.\n",
      "[I 2025-01-25 20:38:38,653] Trial 71 finished with value: 0.938780301696308 and parameters: {'model': 'RandomForest', 'max_depth': 20, 'max_features': 'log2', 'n_estimators': 80}. Best is trial 24 with value: 0.9403650877501907.\n",
      "[I 2025-01-25 20:38:39,814] Trial 70 finished with value: 0.9409520455479251 and parameters: {'model': 'RandomForest', 'max_depth': 20, 'max_features': 'log2', 'n_estimators': 140}. Best is trial 70 with value: 0.9409520455479251.\n",
      "[I 2025-01-25 20:38:42,994] Trial 72 finished with value: 0.938780301696308 and parameters: {'model': 'RandomForest', 'max_depth': 20, 'max_features': 'log2', 'n_estimators': 80}. Best is trial 70 with value: 0.9409520455479251.\n",
      "[I 2025-01-25 20:38:44,110] Trial 73 finished with value: 0.938780301696308 and parameters: {'model': 'RandomForest', 'max_depth': 20, 'max_features': 'log2', 'n_estimators': 80}. Best is trial 70 with value: 0.9409520455479251.\n",
      "[I 2025-01-25 20:38:44,900] Trial 74 finished with value: 0.938780301696308 and parameters: {'model': 'RandomForest', 'max_depth': 20, 'max_features': 'log2', 'n_estimators': 80}. Best is trial 70 with value: 0.9409520455479251.\n",
      "[I 2025-01-25 20:38:47,857] Trial 75 finished with value: 0.9379585607794799 and parameters: {'model': 'RandomForest', 'max_depth': 20, 'max_features': 'log2', 'n_estimators': 70}. Best is trial 70 with value: 0.9409520455479251.\n",
      "[I 2025-01-25 20:38:56,501] Trial 78 finished with value: 0.9379585607794799 and parameters: {'model': 'RandomForest', 'max_depth': 20, 'max_features': 'log2', 'n_estimators': 70}. Best is trial 70 with value: 0.9409520455479251.\n",
      "[I 2025-01-25 20:39:02,127] Trial 77 finished with value: 0.9361976873862771 and parameters: {'model': 'RandomForest', 'max_depth': 20, 'max_features': None, 'n_estimators': 70}. Best is trial 70 with value: 0.9409520455479251.\n",
      "[I 2025-01-25 20:39:04,314] Trial 76 finished with value: 0.9365498620649175 and parameters: {'model': 'RandomForest', 'max_depth': 20, 'max_features': None, 'n_estimators': 80}. Best is trial 70 with value: 0.9409520455479251.\n",
      "[I 2025-01-25 20:39:18,160] Trial 80 finished with value: 0.9361976873862771 and parameters: {'model': 'RandomForest', 'max_depth': 20, 'max_features': None, 'n_estimators': 70}. Best is trial 70 with value: 0.9409520455479251.\n",
      "[I 2025-01-25 20:39:31,632] Trial 79 finished with value: 0.9364324705053706 and parameters: {'model': 'RandomForest', 'max_depth': 20, 'max_features': None, 'n_estimators': 140}. Best is trial 70 with value: 0.9409520455479251.\n",
      "[I 2025-01-25 20:39:32,005] Trial 81 finished with value: 0.9361976873862771 and parameters: {'model': 'RandomForest', 'max_depth': 20, 'max_features': None, 'n_estimators': 70}. Best is trial 70 with value: 0.9409520455479251.\n",
      "[I 2025-01-25 20:39:36,857] Trial 82 finished with value: 0.9361976873862771 and parameters: {'model': 'RandomForest', 'max_depth': 20, 'max_features': None, 'n_estimators': 70}. Best is trial 70 with value: 0.9409520455479251.\n",
      "[I 2025-01-25 20:40:02,411] Trial 83 finished with value: 0.9364324705053706 and parameters: {'model': 'RandomForest', 'max_depth': 20, 'max_features': None, 'n_estimators': 140}. Best is trial 70 with value: 0.9409520455479251.\n",
      "[I 2025-01-25 20:40:06,531] Trial 84 finished with value: 0.9364324705053706 and parameters: {'model': 'RandomForest', 'max_depth': 20, 'max_features': None, 'n_estimators': 140}. Best is trial 70 with value: 0.9409520455479251.\n",
      "[I 2025-01-25 20:40:12,782] Trial 86 finished with value: 0.938780301696308 and parameters: {'model': 'RandomForest', 'max_depth': 19, 'max_features': 'sqrt', 'n_estimators': 140}. Best is trial 70 with value: 0.9409520455479251.\n",
      "[I 2025-01-25 20:40:16,113] Trial 88 finished with value: 0.9381933438985737 and parameters: {'model': 'RandomForest', 'max_depth': 19, 'max_features': 'sqrt', 'n_estimators': 90}. Best is trial 70 with value: 0.9409520455479251.\n",
      "[I 2025-01-25 20:40:17,004] Trial 87 finished with value: 0.938780301696308 and parameters: {'model': 'RandomForest', 'max_depth': 19, 'max_features': 'sqrt', 'n_estimators': 140}. Best is trial 70 with value: 0.9409520455479251.\n",
      "[I 2025-01-25 20:40:20,606] Trial 89 finished with value: 0.9381933438985737 and parameters: {'model': 'RandomForest', 'max_depth': 19, 'max_features': 'sqrt', 'n_estimators': 90}. Best is trial 70 with value: 0.9409520455479251.\n",
      "[I 2025-01-25 20:40:22,050] Trial 90 finished with value: 0.9381933438985737 and parameters: {'model': 'RandomForest', 'max_depth': 19, 'max_features': 'sqrt', 'n_estimators': 90}. Best is trial 70 with value: 0.9409520455479251.\n",
      "[I 2025-01-25 20:40:25,999] Trial 91 finished with value: 0.9381933438985737 and parameters: {'model': 'RandomForest', 'max_depth': 19, 'max_features': 'sqrt', 'n_estimators': 90}. Best is trial 70 with value: 0.9409520455479251.\n",
      "[I 2025-01-25 20:40:27,595] Trial 92 finished with value: 0.9381933438985737 and parameters: {'model': 'RandomForest', 'max_depth': 19, 'max_features': 'sqrt', 'n_estimators': 90}. Best is trial 70 with value: 0.9409520455479251.\n",
      "[I 2025-01-25 20:40:27,791] Trial 85 finished with value: 0.9364324705053706 and parameters: {'model': 'RandomForest', 'max_depth': 20, 'max_features': None, 'n_estimators': 140}. Best is trial 70 with value: 0.9409520455479251.\n",
      "[I 2025-01-25 20:40:29,683] Trial 93 finished with value: 0.9381933438985737 and parameters: {'model': 'RandomForest', 'max_depth': 19, 'max_features': 'sqrt', 'n_estimators': 90}. Best is trial 70 with value: 0.9409520455479251.\n",
      "[I 2025-01-25 20:40:33,157] Trial 94 finished with value: 0.9381933438985737 and parameters: {'model': 'RandomForest', 'max_depth': 19, 'max_features': 'log2', 'n_estimators': 90}. Best is trial 70 with value: 0.9409520455479251.\n",
      "[I 2025-01-25 20:40:33,198] Trial 95 finished with value: 0.9381933438985737 and parameters: {'model': 'RandomForest', 'max_depth': 19, 'max_features': 'log2', 'n_estimators': 90}. Best is trial 70 with value: 0.9409520455479251.\n",
      "[I 2025-01-25 20:40:37,162] Trial 97 finished with value: 0.9390737805951751 and parameters: {'model': 'RandomForest', 'max_depth': 20, 'max_features': 'log2', 'n_estimators': 60}. Best is trial 70 with value: 0.9409520455479251.\n",
      "[I 2025-01-25 20:40:38,955] Trial 96 finished with value: 0.9386042143569878 and parameters: {'model': 'RandomForest', 'max_depth': 19, 'max_features': 'log2', 'n_estimators': 130}. Best is trial 70 with value: 0.9409520455479251.\n",
      "[I 2025-01-25 20:40:42,527] Trial 99 finished with value: 0.9396020426131361 and parameters: {'model': 'RandomForest', 'max_depth': 20, 'max_features': 'log2', 'n_estimators': 100}. Best is trial 70 with value: 0.9409520455479251.\n",
      "[I 2025-01-25 20:40:42,819] Trial 98 finished with value: 0.9403650877501907 and parameters: {'model': 'RandomForest', 'max_depth': 20, 'max_features': 'log2', 'n_estimators': 130}. Best is trial 70 with value: 0.9409520455479251.\n"
     ]
    },
    {
     "name": "stdout",
     "output_type": "stream",
     "text": [
      "Best Model: RandomForest\n",
      "Best Hyperparameters: {'model': 'RandomForest', 'max_depth': 20, 'max_features': 'log2', 'n_estimators': 140}\n",
      "Best Accuracy: 0.9409520455479251\n"
     ]
    }
   ],
   "source": [
    "from sklearn.model_selection import cross_val_score\n",
    "\n",
    "# Create the Optuna study and optimize the objective function\n",
    "study = optuna.create_study(direction='maximize')  # We want to maximize accuracy\n",
    "study.optimize(objective, n_trials=100, n_jobs=-1)  # Run 100 trials\n",
    "\n",
    "# Get the best trial (model and hyperparameters)\n",
    "best_params = study.best_params\n",
    "best_model_name = best_params['model']\n",
    "\n",
    "# Print out the best hyperparameters and score\n",
    "print(f\"Best Model: {best_model_name}\")\n",
    "print(\"Best Hyperparameters:\", study.best_params)\n",
    "print(\"Best Accuracy:\", study.best_value)"
   ]
  },
  {
   "cell_type": "markdown",
   "id": "f1f3b5a4-db66-486a-b918-2400ea101110",
   "metadata": {},
   "source": [
    "# Result for Optuna\n",
    "* Best Model: RandomForest\n",
    "* Best Hyperparameters: {'model': 'RandomForest', 'max_depth': 20, 'max_features': 'sqrt', 'n_estimators': 120}\n",
    "* Best Accuracy: 0.939719434172683"
   ]
  },
  {
   "cell_type": "raw",
   "id": "7e2d4463-85d0-445d-a2d1-37d40a734cfd",
   "metadata": {},
   "source": [
    "Best Model: RandomForest\n",
    "Best Hyperparameters: {'model': 'RandomForest', 'max_depth': 20, 'max_features': 'sqrt', 'n_estimators': 120}\n",
    "Best Accuracy: 0.939719434172683"
   ]
  },
  {
   "cell_type": "code",
   "execution_count": 52,
   "id": "0fecb7f3-fb1e-45dc-b68d-635e08a4305c",
   "metadata": {},
   "outputs": [
    {
     "name": "stdout",
     "output_type": "stream",
     "text": [
      "Accuracy: 0.94660\n"
     ]
    }
   ],
   "source": [
    "best_params = {\n",
    "    'max_depth': 20,\n",
    "    'max_features': 'log2',\n",
    "    'n_estimators': 140\n",
    "}\n",
    "\n",
    "# Initialize the Random Forest model with the best hyperparameters\n",
    "model = RandomForestClassifier(\n",
    "    max_depth=best_params['max_depth'],\n",
    "    max_features=best_params['max_features'],\n",
    "    n_estimators=best_params['n_estimators'],\n",
    "    random_state=42\n",
    ")\n",
    "\n",
    "# Train the model\n",
    "model.fit(X_train, y_train)\n",
    "\n",
    "# Make predictions\n",
    "y_pred = model.predict(X_test)\n",
    "\n",
    "# Evaluate accuracy\n",
    "accuracy = accuracy_score(y_test, y_pred)\n",
    "print(f\"Accuracy: {accuracy:.5f}\")\n",
    "\n",
    "# Validate the accuracy\n",
    "assert abs(accuracy - 0.9409520455479251) < 0.01, \"Accuracy does not match expected value.\""
   ]
  },
  {
   "cell_type": "code",
   "execution_count": null,
   "id": "e991ac29-fd43-4c7f-8c0f-b381319b773a",
   "metadata": {},
   "outputs": [],
   "source": []
  }
 ],
 "metadata": {
  "kernelspec": {
   "display_name": "Python 3 (ipykernel)",
   "language": "python",
   "name": "python3"
  },
  "language_info": {
   "codemirror_mode": {
    "name": "ipython",
    "version": 3
   },
   "file_extension": ".py",
   "mimetype": "text/x-python",
   "name": "python",
   "nbconvert_exporter": "python",
   "pygments_lexer": "ipython3",
   "version": "3.12.3"
  }
 },
 "nbformat": 4,
 "nbformat_minor": 5
}
